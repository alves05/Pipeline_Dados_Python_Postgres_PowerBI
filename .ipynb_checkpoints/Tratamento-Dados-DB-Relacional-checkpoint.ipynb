{
 "cells": [
  {
   "cell_type": "markdown",
   "id": "f91d386c",
   "metadata": {},
   "source": [
    "# Engenharia de Dados com Python e Postgres e Análise com PowerBI"
   ]
  },
  {
   "cell_type": "markdown",
   "id": "b1441ab9",
   "metadata": {},
   "source": [
    "## Bibliotecas"
   ]
  },
  {
   "cell_type": "code",
   "execution_count": null,
   "id": "3190e210",
   "metadata": {
    "scrolled": true
   },
   "outputs": [],
   "source": [
    "# Instalando a biblioteca faker\n",
    "!pip install faker"
   ]
  },
  {
   "cell_type": "code",
   "execution_count": null,
   "id": "c3755a7d",
   "metadata": {
    "scrolled": true
   },
   "outputs": [],
   "source": [
    "# Instalando a biblioteca do sgbd Postgres\n",
    "!pip install psycopg2"
   ]
  },
  {
   "cell_type": "code",
   "execution_count": null,
   "id": "73a4bb32",
   "metadata": {
    "scrolled": true
   },
   "outputs": [],
   "source": [
    "# Instalando a biblioteca folium\n",
    "!pip install folium"
   ]
  },
  {
   "cell_type": "code",
   "execution_count": null,
   "id": "b65736f7",
   "metadata": {
    "scrolled": true
   },
   "outputs": [],
   "source": [
    "# Instalando a biblioteca geopy\n",
    "!pip install geopy"
   ]
  },
  {
   "cell_type": "code",
   "execution_count": 288,
   "id": "3af2edc3",
   "metadata": {
    "scrolled": true
   },
   "outputs": [],
   "source": [
    "import pandas as pd\n",
    "import numpy as np\n",
    "from faker import Faker\n",
    "import psycopg2\n",
    "from psycopg2.extensions import AsIs\n",
    "import seaborn as sns\n",
    "import matplotlib.pyplot as plt\n",
    "import folium\n",
    "from geopy.geocoders import Nominatim\n",
    "from IPython.display import display"
   ]
  },
  {
   "cell_type": "markdown",
   "id": "83f3611b",
   "metadata": {},
   "source": [
    "## Funções"
   ]
  },
  {
   "cell_type": "markdown",
   "id": "0f332c0e",
   "metadata": {},
   "source": [
    "> A função **`ler_arquivo_excel()`** cria um único objeto no formato ***DataFrame*** chamado **`planilha_unificada`**, o parâmetro **`arquivo=`** recebe o nome do arquivo da base de dados, já no parâmetro **`nome_tabela=`** recebe uma *tupla* contendo os nomes das tabelas internas do arquivo excel."
   ]
  },
  {
   "cell_type": "code",
   "execution_count": 2,
   "id": "85d8cc81",
   "metadata": {
    "scrolled": true
   },
   "outputs": [],
   "source": [
    "def ler_arquivo_excel(arquivo:'FilePath', nome_tabela:tuple) -> 'DataFrame':\n",
    "    planilha_1 = pd.read_excel(arquivo, sheet_name=nome_tabela[0])\n",
    "    planilha_2 = pd.read_excel(arquivo, sheet_name=nome_tabela[1])\n",
    "    \n",
    "    planilha_unificada = pd.concat([planilha_1, planilha_2])\n",
    "    \n",
    "    return planilha_unificada"
   ]
  },
  {
   "cell_type": "markdown",
   "id": "ad8267b6",
   "metadata": {},
   "source": [
    "> A função **`transforma_dados()`** rotorna o obejto ***DataFrame*** **`'dados'`**, após realizar as transformações de renomea as colunas, criar coluna Total_vendido e remove os valores NaN. O parâmetro **`dados_base=`** recebe o objeto ***DataFrame*** para realizar as transformações na base de dados."
   ]
  },
  {
   "cell_type": "code",
   "execution_count": 3,
   "id": "ef4562e9",
   "metadata": {
    "scrolled": true
   },
   "outputs": [],
   "source": [
    "def transforma_dados(dados_base:'DataFrame') -> 'DataFrame':\n",
    "    # Renomea colunas.\n",
    "    dados = dados_base.rename(columns={\n",
    "        'StockCode': 'Id_produto',\n",
    "        'Description': 'Produto',\n",
    "        'Quantity': 'Quantidade',\n",
    "        'InvoiceDate': 'Data',\n",
    "        'Price': 'Preço',\n",
    "        'Customer ID': 'Id_cliente',\n",
    "        'Country': 'Localização'\n",
    "    })\n",
    "    \n",
    "    # Cria coluna Total Vendido.\n",
    "    dados['Total_vendido'] = dados['Quantidade'] * dados['Preço']\n",
    "    \n",
    "    # Remove valores nulos.\n",
    "    dados = dados.dropna()\n",
    "    \n",
    "    # Alterando os valores negativos das notas canceladas para 0\n",
    "    dados.loc[dados['Invoice'].str.contains('C'), ['Quantidade', 'Preço', 'Total_vendido']] = 0\n",
    "    \n",
    "    # Excluindo linhas com id_produto igual a TEST\n",
    "    dados.drop(dados[dados['Id_produto'].str.contains('TEST')].index, inplace=True)\n",
    "    \n",
    "    return dados"
   ]
  },
  {
   "cell_type": "markdown",
   "id": "01338003",
   "metadata": {},
   "source": [
    "> A função **`cria_tabela_clientes()`** rotorna um novo obejto ***DataFrame*** **`clientes`**, após realizar seleção das colunas ***Id_cliente e Localização***, os dados recebem um completmento de informações usando a biblioteca ***Faker***, que será usado para gerar nomes e emails, para os clientes e complementar os dados na tabela, por fim, o ***DataFrame*** é estruturado e  suas colunas são ordenadas. O parâmetro **`dados_base=`** recebe o objeto ***DataFrame*** da base de dados já tradata."
   ]
  },
  {
   "cell_type": "code",
   "execution_count": 4,
   "id": "4b0a68e6",
   "metadata": {
    "scrolled": true
   },
   "outputs": [],
   "source": [
    "def cria_tabela_clientes(dados_base:'DataFrame') -> 'DataFrame':\n",
    "    # Criando copia da base original.\n",
    "    dados_copia = dados_base.copy()\n",
    "    clientes_original = dados_copia[['Id_cliente', 'Localização']]\n",
    "    clientes = clientes_original.copy()\n",
    "\n",
    "    # Removendo Ids duplicados.\n",
    "    clientes.drop_duplicates(\n",
    "        subset=['Id_cliente'],\n",
    "        keep='first',\n",
    "        inplace=True\n",
    "    )\n",
    "    \n",
    "    # Convertando Ids para inteiro.\n",
    "    clientes['Id_cliente'] = clientes['Id_cliente'].astype(int)\n",
    "\n",
    "    # Ordenando coluna ids.\n",
    "    clientes = clientes.sort_values(\n",
    "        by='Id_cliente',\n",
    "        ascending=True\n",
    "    )\n",
    "    \n",
    "    # Definindo uma semente para a função Faker.\n",
    "    Faker.seed(10)\n",
    "    faker = Faker()\n",
    "\n",
    "    # Criando lista de nomes.\n",
    "    nomes_clientes = []\n",
    "    while len(nomes_clientes) < len(clientes):\n",
    "        nome_cliente = faker.company()\n",
    "        if nome_cliente not in nomes_clientes:\n",
    "            nomes_clientes.append(nome_cliente)\n",
    "\n",
    "    # Criando emails.\n",
    "    emails = []\n",
    "    for name in nomes_clientes:\n",
    "        email = name.replace(\",\", \"\").lower() + \"@email.com\"\n",
    "        email = email.replace(\" \", \"\")\n",
    "        emails.append(email)\n",
    "\n",
    "    clientes['Cliente'] = nomes_clientes\n",
    "    clientes['Email'] = emails\n",
    "    ordem_colunas = ['Id_cliente', 'Cliente', 'Email', 'Localização']\n",
    "    clientes = clientes.reindex(columns=ordem_colunas)    \n",
    "\n",
    "    return clientes\n"
   ]
  },
  {
   "cell_type": "markdown",
   "id": "81f145c7",
   "metadata": {},
   "source": [
    "> A função **`cria_tabela_vendas()`** rotorna um novo obejto ***DataFrame*** **`vendas`**, realiza a seleção das colunas ***Invoice, Id_cliente, Data e Total_vendido***, a coluna ***Id_cliente*** é convertida para inteiro e a coluna ***Data*** para o formato datetime, por fim a tabela é agrupada pela coluna ***Total_vendido*** e ordenada pela coluna ***Invoice***. O parâmetro **`dados_base=`** recebe o objeto ***DataFrame*** da base de dados já tradata."
   ]
  },
  {
   "cell_type": "code",
   "execution_count": 5,
   "id": "143c9787",
   "metadata": {
    "scrolled": true
   },
   "outputs": [],
   "source": [
    "def cria_tabela_vendas(dados_base:'DataFrame') -> 'DataFrame':\n",
    "    # Criando copia da base original.\n",
    "    dados_copia = dados.copy()\n",
    "    vendas_original = dados_copia[['Invoice', 'Id_cliente', 'Data', 'Total_vendido']]\n",
    "    vendas = vendas_original.copy()\n",
    "    \n",
    "    # Transformando coluna Id_cliente em inteiro.\n",
    "    vendas['Id_cliente'] = vendas['Id_cliente'].astype(int)\n",
    "\n",
    "    # Convertendo data\n",
    "    vendas['Data'] = vendas['Data'].dt.date\n",
    "    vendas['Data'] = pd.to_datetime(vendas['Data'])\n",
    "\n",
    "    # Agrupando vendas pelo total das vendas.\n",
    "    vendas = vendas.groupby(['Invoice', 'Id_cliente', 'Data'])['Total_vendido'].sum().reset_index()\n",
    "\n",
    "    vendas = vendas.sort_values('Invoice', ascending=True)\n",
    "\n",
    "    return vendas"
   ]
  },
  {
   "cell_type": "markdown",
   "id": "9f228791",
   "metadata": {},
   "source": [
    "> A função **`cria_tabela_produto()`** rotorna um novo obejto ***DataFrame*** **`produtos`**, realiza a seleção das colunas ***Id_produto, Produto e Preço***, remove as duplicidades apartir da coluna ***Id_produto*** e ordenada a tabela pela coluna ***Id_produto***. O parâmetro **`dados_base=`** recebe o objeto ***DataFrame*** da base de dados já tradata."
   ]
  },
  {
   "cell_type": "code",
   "execution_count": 6,
   "id": "5ef84e6b",
   "metadata": {
    "scrolled": true
   },
   "outputs": [],
   "source": [
    "def cria_tabela_produto(dados_base:'DataFrame') -> 'DataFrame':\n",
    "    # Criando copia da base original.\n",
    "    dados_copia = dados.copy()\n",
    "    produtos_original = dados_copia[['Id_produto', 'Produto', 'Preço']]\n",
    "    produtos = produtos_original.copy()\n",
    "\n",
    "    # Removendo duplicidades.\n",
    "    produtos.drop_duplicates(\n",
    "        subset=['Id_produto'],\n",
    "        keep='first',\n",
    "        inplace=True\n",
    "    )\n",
    "\n",
    "    produtos['Id_produto'] = produtos['Id_produto'].astype(str)\n",
    "    produtos = produtos.sort_values('Id_produto', ascending=True)\n",
    "\n",
    "    return produtos"
   ]
  },
  {
   "cell_type": "markdown",
   "id": "3df38b26",
   "metadata": {},
   "source": [
    "> A função **`cria_tabela_itens_venda()`** rotorna um novo obejto ***DataFrame*** **`itens_venda`**, realiza a seleção das colunas ***Invoice, Id_produto, Quantidade, Preço e Total_vendido***, remove os produtos duplicados apartir da coluna ***Id_produto*** e por fim ordenada a tabela. O parâmetro **`dados_base=`** recebe o objeto ***DataFrame*** da base de dados já tradata."
   ]
  },
  {
   "cell_type": "code",
   "execution_count": 7,
   "id": "c7035456",
   "metadata": {
    "scrolled": true
   },
   "outputs": [],
   "source": [
    "def cria_tabela_itens_venda(dados_base:'DataFrame') -> 'DataFrame':\n",
    "    # Criando copia da base original.\n",
    "    dados_copia = dados.copy()\n",
    "    itens_venda = dados_copia[['Invoice', 'Id_produto', 'Quantidade', 'Preço', 'Total_vendido']]\n",
    "\n",
    "    # Removendo produtos duplicados.\n",
    "    itens_venda = itens_venda.groupby(['Invoice','Id_produto']).agg({\n",
    "        'Quantidade':   'sum',\n",
    "        'Preço':      'first',\n",
    "        'Total_vendido': 'sum'\n",
    "    }).reset_index()\n",
    "    \n",
    "    ordem_coluna = ['Invoice', 'Id_produto', 'Quantidade', 'Preço', 'Total_vendido']\n",
    "    itens_venda = itens_venda.reindex(columns=ordem_coluna)\n",
    "\n",
    "    return itens_venda"
   ]
  },
  {
   "cell_type": "markdown",
   "id": "cdcad179",
   "metadata": {},
   "source": [
    "> A função **`conecta_db_postgres()`** recebe no parâmetro **`banco_dados=`** uma tupla com os dados de acesso ao banco de dados, e retorna uma tupla com o *conector* e *cursor* do banco de dados."
   ]
  },
  {
   "cell_type": "code",
   "execution_count": 8,
   "id": "a03618f1",
   "metadata": {
    "scrolled": true
   },
   "outputs": [],
   "source": [
    "def conecta_db_postgres(acesso:tuple) -> tuple:\n",
    "    # Conectando ao SGBD.\n",
    "    conn = psycopg2.connect(host=acesso[0],\n",
    "                            database=acesso[1],\n",
    "                            user=acesso[2],\n",
    "                            password=acesso[3])\n",
    "\n",
    "    # Commit automatico.\n",
    "    conn.autocommit = True\n",
    "\n",
    "    cursor = conn.cursor()\n",
    "\n",
    "    return conn, cursor"
   ]
  },
  {
   "cell_type": "markdown",
   "id": "09b3ce53",
   "metadata": {},
   "source": [
    ">  A função **`finaliza_conexao_postgres()`** recebe o *conector* no parâmetro **`conn=`** e o *cursor* no parâmetro **`cursor=`**, e assim realiza o fim da conexão com o banco de dados."
   ]
  },
  {
   "cell_type": "code",
   "execution_count": 9,
   "id": "636f9686",
   "metadata": {
    "scrolled": true
   },
   "outputs": [],
   "source": [
    "def finaliza_conexao_postgres(cursor:'cursor', conn:'connection') -> None:\n",
    "    cursor.close()\n",
    "    conn.close()\n",
    "\n",
    "    return None"
   ]
  },
  {
   "cell_type": "markdown",
   "id": "239b3e88",
   "metadata": {},
   "source": [
    "> A função **`cria_db()`** recebe uma tupla com os dados de acesso no parâmetro **`banco_dados=`** e uma string no parâmetro **`novo_banco_dados=`**, a função realiza a criação de um novo banco de dados no PostgreSQL."
   ]
  },
  {
   "cell_type": "code",
   "execution_count": 10,
   "id": "11d8aeae",
   "metadata": {
    "scrolled": true
   },
   "outputs": [],
   "source": [
    "def cria_db(banco_dados:tuple, novo_banco_dados:str) -> None:\n",
    "    conn, cursor = conecta_db_postgres(acesso=banco_dados)\n",
    "\n",
    "    cursor.execute(\"SELECT datname FROM pg_database WHERE datname = %s\", (novo_banco_dados,))\n",
    "    row = cursor.fetchall()\n",
    "\n",
    "    if row:\n",
    "        print(f'ATENÇÃO: Banco de dados {novo_banco_dados} já existe!')\n",
    "    else:\n",
    "        cursor.execute(\"CREATE DATABASE %s;\", (AsIs(novo_banco_dados),))\n",
    "        print(f'Banco de dados {novo_banco_dados} criado!')\n",
    "\n",
    "    finaliza_conexao_postgres(cursor=cursor, conn=conn)\n",
    "\n",
    "    return None"
   ]
  },
  {
   "cell_type": "markdown",
   "id": "a71ddf44",
   "metadata": {},
   "source": [
    "> A função **`cria_schema_db()`**, no parâmetro **`banco_dados=`**, recebe uma tupla com dados de acesso do banco, e no parâmetro **`novo_schema=`**, recebe uma string com o nome do schema, o resultado é a criação de um novo schema no banco de dados."
   ]
  },
  {
   "cell_type": "code",
   "execution_count": 11,
   "id": "5dbbf3f7",
   "metadata": {
    "scrolled": true
   },
   "outputs": [],
   "source": [
    "def cria_schema_db(banco_dados:tuple, novo_schema:str) -> None:\n",
    "    conn, cursor = conecta_db_postgres(acesso=banco_dados)\n",
    "\n",
    "    cursor.execute(\"SELECT schema_name FROM information_schema.schemata WHERE schema_name = %s\", (novo_schema,))\n",
    "    row = cursor.fetchall()\n",
    "\n",
    "    if row:\n",
    "        print(f'ATENÇÃO: Schema {novo_schema} já existe!')\n",
    "    else:\n",
    "        cursor.execute(\"CREATE SCHEMA %s;\", (AsIs(novo_schema),))\n",
    "        print(f'SCHEMA {novo_schema} criado!')\n",
    "\n",
    "    finaliza_conexao_postgres(cursor=cursor, conn=conn)\n",
    "\n",
    "    return None"
   ]
  },
  {
   "cell_type": "markdown",
   "id": "492de36b",
   "metadata": {},
   "source": [
    "> A função **`cria_tabelas_banco_dados_relacional()`** recebe os parâmetros **`banco_dados=tuple, schema=str, nova_tabela=str, colunas_tabela=list, tabela_dados=DataFrame, query_cria_tabela=str, query_inseri_dados=str e numero_linhas=int`**, para criar uma nova tabela em um banco de dados e inserir dados na tabela, o retorno da função é uma tupla com a consulta de n linhas e suas dimensões."
   ]
  },
  {
   "cell_type": "code",
   "execution_count": 12,
   "id": "7c5dbb83",
   "metadata": {
    "scrolled": true
   },
   "outputs": [],
   "source": [
    "def cria_tabelas_banco_dados_relacional(banco_dados:tuple, schema:str, nova_tabela:str, colunas_tabela:list,\n",
    "                                        tabela_dados:'DataFrame', query_cria_tabela:str, query_inseri_dados:str,\n",
    "                                        numero_linhas:int) -> tuple:\n",
    "    \n",
    "    conn, cursor = conecta_db_postgres(acesso=banco_dados)\n",
    "\n",
    "    cursor.execute(\"\"\"SELECT EXISTS (SELECT *\n",
    "                      FROM information_schema.tables\n",
    "                      WHERE table_schema = %s AND table_name = %s );\"\"\", (schema, nova_tabela,))\n",
    "    tabela_existe = cursor.fetchone()[0]\n",
    "    \n",
    "    if tabela_existe:\n",
    "        print(f'ATENÇÃO: A tabela {nova_tabela} já existe!')\n",
    "        \n",
    "        cursor.execute(\"\"\"SELECT * FROM %s.%s;\"\"\", (AsIs(schema,), AsIs(nova_tabela,),))\n",
    "        rows = cursor.fetchall()\n",
    "        consulta_sql = pd.DataFrame(rows, columns=colunas_tabela)\n",
    "        \n",
    "    else:\n",
    "        print(f\"Tabela {nova_tabela} criada!\")\n",
    "\n",
    "        cursor.execute(query_cria_tabela)\n",
    "        \n",
    "        lista = tuple(tabela_dados.values)\n",
    "        for linha in lista:\n",
    "            cursor.execute(query_inseri_dados, linha)\n",
    "        \n",
    "        cursor.execute(\"\"\"SELECT * FROM %s.%s;\"\"\",(AsIs(schema,), AsIs(nova_tabela,),))\n",
    "        rows = cursor.fetchall()\n",
    "        consulta_sql = pd.DataFrame(rows, columns=colunas_tabela)\n",
    "        \n",
    "    finaliza_conexao_postgres(cursor, conn)\n",
    "\n",
    "    return consulta_sql.head(numero_linhas), consulta_sql.shape"
   ]
  },
  {
   "cell_type": "markdown",
   "id": "385dd842",
   "metadata": {},
   "source": [
    "> A função **`cria_tabelas_banco_dados_dimensional()`** recebe os parâmetros **`banco_dados=tuple, schema=str, nova_tabela=str, colunas_tabela=list, query_cria_tabela=str, query_inseri_dados=str e numero_linhas=int`**, para criar uma nova tabela em um banco de dados e inserir dados na tabela, o retorno da função é uma tupla com a consulta de n linhas e suas dimensões."
   ]
  },
  {
   "cell_type": "code",
   "execution_count": 13,
   "id": "18acf758",
   "metadata": {
    "scrolled": true
   },
   "outputs": [],
   "source": [
    "def cria_tabelas_banco_dados_dimensional(banco_dados:tuple, schema:str, nova_tabela:str, colunas_tabela:list,\n",
    "                                         query_cria_tabela:str, query_inseri_dados:str, numero_linhas:int) -> tuple:\n",
    "\n",
    "    conn, cursor = conecta_db_postgres(acesso=banco_dados)\n",
    "    \n",
    "    cursor.execute(\"\"\"SELECT EXISTS (SELECT *\n",
    "                      FROM information_schema.tables\n",
    "                      WHERE table_schema = %s AND table_name = %s );\"\"\", (schema, nova_tabela,))\n",
    "    tabela_existe = cursor.fetchone()[0]\n",
    "    \n",
    "    if tabela_existe:\n",
    "        print(f'ATENÇÃO: A tabela {nova_tabela} já existe!')\n",
    "        \n",
    "        cursor.execute(\"\"\"SELECT * FROM %s.%s;\"\"\", (AsIs(schema,), AsIs(nova_tabela,),))\n",
    "        rows = cursor.fetchall()\n",
    "        consulta_sql = pd.DataFrame(rows, columns=colunas_tabela)\n",
    "        \n",
    "    else:\n",
    "        print(f\"Tabela {nova_tabela} criada!\")\n",
    "        \n",
    "        cursor.execute(query_cria_tabela)\n",
    "        cursor.execute(query_inseri_dados)\n",
    "        cursor.execute(\"\"\"SELECT * FROM %s.%s;\"\"\",(AsIs(schema,), AsIs(nova_tabela,),))\n",
    "        rows = cursor.fetchall()\n",
    "        consulta_sql = pd.DataFrame(rows, columns=colunas_tabela)\n",
    "        \n",
    "    finaliza_conexao_postgres(cursor, conn)\n",
    "\n",
    "    return consulta_sql.head(numero_linhas), consulta_sql.shape"
   ]
  },
  {
   "cell_type": "markdown",
   "id": "ef4c3d2c",
   "metadata": {},
   "source": [
    "> A função **`consulta_sql()`** recebe o acesso ao banco de dados em uma tupla no parâmetro **`banco_dados=`**, o parâmetro **`query=`** recebe uma query SQL no formato de string e o parâmetro **`colunas=`** recebe uma lista com o nome das colunas, que será usado no *DataFrame* que é o retorno da função."
   ]
  },
  {
   "cell_type": "code",
   "execution_count": 185,
   "id": "621bc048",
   "metadata": {},
   "outputs": [],
   "source": [
    "def consulta_sql(banco_dados:tuple, query:str, colunas:list) -> 'DataFrame':\n",
    "    conn, cursor = conecta_db_postgres(acesso=banco_dados)\n",
    "\n",
    "    cursor.execute(query)\n",
    "    rows = cursor.fetchall()\n",
    "    consulta = pd.DataFrame(rows, columns=colunas)\n",
    "\n",
    "    finaliza_conexao_postgres(cursor, conn)\n",
    "    \n",
    "    return consulta"
   ]
  },
  {
   "cell_type": "markdown",
   "id": "2e193d51",
   "metadata": {},
   "source": [
    "> A função **`grafico_pizza()`** recebe um *DataFrame* no parâmetro **`dados=`** e retorna um gráfico de pizza."
   ]
  },
  {
   "cell_type": "code",
   "execution_count": 113,
   "id": "5f3b13ca",
   "metadata": {
    "scrolled": true
   },
   "outputs": [],
   "source": [
    "def grafico_pizza(dados:'DataFrame') -> None:\n",
    "    # Criar rótulos personalizados com o ano e o valor do faturamento.\n",
    "    labels = [f\"{ano}: $ {faturamento:,.2f}\" for ano,\n",
    "              faturamento in zip(dados['Ano'], dados['Faturamento'])]\n",
    "\n",
    "    f, ax = plt.subplots(figsize=(8, 8))\n",
    "    ax.pie(dados['Faturamento'], autopct='%1.1f%%', pctdistance=1.1, labeldistance=1.5,\n",
    "           wedgeprops=dict(width=0.30), colors=['#6E1423', '#A11D33', '#E01E37'])\n",
    "    plt.legend(labels=labels, title='Ano e Faturamento',\n",
    "               loc='center', prop={'size': 10})\n",
    "    plt.title('Faturamento Anual')\n",
    "    plt.show()\n",
    "\n",
    "    return None\n"
   ]
  },
  {
   "cell_type": "markdown",
   "id": "c93ee54d",
   "metadata": {},
   "source": [
    "> A função **`grafico_barras()`** recebe no parâmetro **`dados=`** um *DataFrame* com os dados e no parâmetro **`config_grafico=`** recebe uam tupla com os dados de configuração do gráfico."
   ]
  },
  {
   "cell_type": "code",
   "execution_count": 222,
   "id": "6465960f",
   "metadata": {
    "scrolled": true
   },
   "outputs": [],
   "source": [
    "def grafico_barras(dados:'DataFrame', config_grafico:tuple) -> None:\n",
    "    plt.figure(figsize=(12, 6))\n",
    "    sns.barplot(x=dados[config_grafico[2]],\n",
    "                y=dados[config_grafico[3]],\n",
    "                orient=config_grafico[1],\n",
    "                palette='flare')\n",
    "    \n",
    "    plt.ylabel(config_grafico[3])\n",
    "    plt.xlabel(config_grafico[2])\n",
    "    plt.title(config_grafico[0])\n",
    "    plt.show()\n",
    "\n",
    "    return None"
   ]
  },
  {
   "cell_type": "markdown",
   "id": "ae7405a9",
   "metadata": {},
   "source": [
    "> A função **`grafico_mapa()`** recebe no parâmetro **`dados=`** um *DataFrame* com os dados e no parâmetro **`zoom=`** recebe um inteiro referente ao zoom do mapa."
   ]
  },
  {
   "cell_type": "code",
   "execution_count": 309,
   "id": "e5548ef6",
   "metadata": {
    "scrolled": true
   },
   "outputs": [],
   "source": [
    "def grafico_mapa(dados:'DataFrame', zoom:int) -> None:\n",
    "    # Coordenadas base para o centro do mapa.\n",
    "    latitude_centro = 55.3781\n",
    "    longitude_centro = 3.4360\n",
    "\n",
    "    # Cria o mapa com base nas coordenadas do centro.\n",
    "    mapa = folium.Map(location=[latitude_centro, longitude_centro],\n",
    "                      zoom_start=zoom,\n",
    "                      tiles = 'cartodbpositron',\n",
    "                      prefer_canvas=True)\n",
    "\n",
    "    # Função para obter as coordenadas geográficas dos países.\n",
    "    def obter_coordenadas(pais):\n",
    "        geolocator = Nominatim(user_agent=\"mapa_de_vendas\")\n",
    "        location = geolocator.geocode(pais)\n",
    "        if location:\n",
    "            return location.latitude, location.longitude\n",
    "        else:\n",
    "            return None\n",
    "\n",
    "    # Adiciona marcadores para cada país.\n",
    "    for indice, linha in dados.iterrows():\n",
    "        pais = linha['pais']\n",
    "        vendas = linha['vendas']\n",
    "        coordenadas = obter_coordenadas(pais)\n",
    "        if coordenadas:\n",
    "            popup_text = (f\"País:{pais}<br>Vendas:{vendas}\")\n",
    "            folium.Marker(coordenadas, popup=popup_text, \n",
    "                          icon=folium.Icon(color='red',\n",
    "                          icon='ok-sign'), tooltip=pais).add_to(mapa)\n",
    "\n",
    "    # Exibe o mapa\n",
    "    display(mapa)\n",
    "\n",
    "    return None"
   ]
  },
  {
   "cell_type": "markdown",
   "id": "cc3570f6",
   "metadata": {},
   "source": [
    "## Carregando e Tratando os Dados"
   ]
  },
  {
   "cell_type": "markdown",
   "id": "831dbe10",
   "metadata": {},
   "source": [
    "- Os passos para essa primeira faze:\n",
    "\n",
    "     - Carregando dados da base excel para um DataFrame.\n",
    "     - Transfomando dados, removendo valores nulos, renomeando colunas e criando coluna Total_vendido. \n",
    "     - Tratamento de dados inconsistente, valores negativos referente a Invoice cancelados."
   ]
  },
  {
   "cell_type": "markdown",
   "id": "a32a1344",
   "metadata": {},
   "source": [
    "### Carga dos dados"
   ]
  },
  {
   "cell_type": "code",
   "execution_count": 14,
   "id": "d2512503",
   "metadata": {
    "scrolled": true
   },
   "outputs": [
    {
     "data": {
      "text/html": [
       "<div>\n",
       "<style scoped>\n",
       "    .dataframe tbody tr th:only-of-type {\n",
       "        vertical-align: middle;\n",
       "    }\n",
       "\n",
       "    .dataframe tbody tr th {\n",
       "        vertical-align: top;\n",
       "    }\n",
       "\n",
       "    .dataframe thead th {\n",
       "        text-align: right;\n",
       "    }\n",
       "</style>\n",
       "<table border=\"1\" class=\"dataframe\">\n",
       "  <thead>\n",
       "    <tr style=\"text-align: right;\">\n",
       "      <th></th>\n",
       "      <th>Invoice</th>\n",
       "      <th>StockCode</th>\n",
       "      <th>Description</th>\n",
       "      <th>Quantity</th>\n",
       "      <th>InvoiceDate</th>\n",
       "      <th>Price</th>\n",
       "      <th>Customer ID</th>\n",
       "      <th>Country</th>\n",
       "    </tr>\n",
       "  </thead>\n",
       "  <tbody>\n",
       "    <tr>\n",
       "      <th>0</th>\n",
       "      <td>489434</td>\n",
       "      <td>85048</td>\n",
       "      <td>15CM CHRISTMAS GLASS BALL 20 LIGHTS</td>\n",
       "      <td>12</td>\n",
       "      <td>2009-12-01 07:45:00</td>\n",
       "      <td>6.95</td>\n",
       "      <td>13085.0</td>\n",
       "      <td>United Kingdom</td>\n",
       "    </tr>\n",
       "    <tr>\n",
       "      <th>1</th>\n",
       "      <td>489434</td>\n",
       "      <td>79323P</td>\n",
       "      <td>PINK CHERRY LIGHTS</td>\n",
       "      <td>12</td>\n",
       "      <td>2009-12-01 07:45:00</td>\n",
       "      <td>6.75</td>\n",
       "      <td>13085.0</td>\n",
       "      <td>United Kingdom</td>\n",
       "    </tr>\n",
       "    <tr>\n",
       "      <th>2</th>\n",
       "      <td>489434</td>\n",
       "      <td>79323W</td>\n",
       "      <td>WHITE CHERRY LIGHTS</td>\n",
       "      <td>12</td>\n",
       "      <td>2009-12-01 07:45:00</td>\n",
       "      <td>6.75</td>\n",
       "      <td>13085.0</td>\n",
       "      <td>United Kingdom</td>\n",
       "    </tr>\n",
       "    <tr>\n",
       "      <th>3</th>\n",
       "      <td>489434</td>\n",
       "      <td>22041</td>\n",
       "      <td>RECORD FRAME 7\" SINGLE SIZE</td>\n",
       "      <td>48</td>\n",
       "      <td>2009-12-01 07:45:00</td>\n",
       "      <td>2.10</td>\n",
       "      <td>13085.0</td>\n",
       "      <td>United Kingdom</td>\n",
       "    </tr>\n",
       "    <tr>\n",
       "      <th>4</th>\n",
       "      <td>489434</td>\n",
       "      <td>21232</td>\n",
       "      <td>STRAWBERRY CERAMIC TRINKET BOX</td>\n",
       "      <td>24</td>\n",
       "      <td>2009-12-01 07:45:00</td>\n",
       "      <td>1.25</td>\n",
       "      <td>13085.0</td>\n",
       "      <td>United Kingdom</td>\n",
       "    </tr>\n",
       "    <tr>\n",
       "      <th>5</th>\n",
       "      <td>489434</td>\n",
       "      <td>22064</td>\n",
       "      <td>PINK DOUGHNUT TRINKET POT</td>\n",
       "      <td>24</td>\n",
       "      <td>2009-12-01 07:45:00</td>\n",
       "      <td>1.65</td>\n",
       "      <td>13085.0</td>\n",
       "      <td>United Kingdom</td>\n",
       "    </tr>\n",
       "    <tr>\n",
       "      <th>6</th>\n",
       "      <td>489434</td>\n",
       "      <td>21871</td>\n",
       "      <td>SAVE THE PLANET MUG</td>\n",
       "      <td>24</td>\n",
       "      <td>2009-12-01 07:45:00</td>\n",
       "      <td>1.25</td>\n",
       "      <td>13085.0</td>\n",
       "      <td>United Kingdom</td>\n",
       "    </tr>\n",
       "    <tr>\n",
       "      <th>7</th>\n",
       "      <td>489434</td>\n",
       "      <td>21523</td>\n",
       "      <td>FANCY FONT HOME SWEET HOME DOORMAT</td>\n",
       "      <td>10</td>\n",
       "      <td>2009-12-01 07:45:00</td>\n",
       "      <td>5.95</td>\n",
       "      <td>13085.0</td>\n",
       "      <td>United Kingdom</td>\n",
       "    </tr>\n",
       "    <tr>\n",
       "      <th>8</th>\n",
       "      <td>489435</td>\n",
       "      <td>22350</td>\n",
       "      <td>CAT BOWL</td>\n",
       "      <td>12</td>\n",
       "      <td>2009-12-01 07:46:00</td>\n",
       "      <td>2.55</td>\n",
       "      <td>13085.0</td>\n",
       "      <td>United Kingdom</td>\n",
       "    </tr>\n",
       "    <tr>\n",
       "      <th>9</th>\n",
       "      <td>489435</td>\n",
       "      <td>22349</td>\n",
       "      <td>DOG BOWL , CHASING BALL DESIGN</td>\n",
       "      <td>12</td>\n",
       "      <td>2009-12-01 07:46:00</td>\n",
       "      <td>3.75</td>\n",
       "      <td>13085.0</td>\n",
       "      <td>United Kingdom</td>\n",
       "    </tr>\n",
       "  </tbody>\n",
       "</table>\n",
       "</div>"
      ],
      "text/plain": [
       "  Invoice StockCode                          Description  Quantity  \\\n",
       "0  489434     85048  15CM CHRISTMAS GLASS BALL 20 LIGHTS        12   \n",
       "1  489434    79323P                   PINK CHERRY LIGHTS        12   \n",
       "2  489434    79323W                  WHITE CHERRY LIGHTS        12   \n",
       "3  489434     22041         RECORD FRAME 7\" SINGLE SIZE         48   \n",
       "4  489434     21232       STRAWBERRY CERAMIC TRINKET BOX        24   \n",
       "5  489434     22064           PINK DOUGHNUT TRINKET POT         24   \n",
       "6  489434     21871                  SAVE THE PLANET MUG        24   \n",
       "7  489434     21523   FANCY FONT HOME SWEET HOME DOORMAT        10   \n",
       "8  489435     22350                            CAT BOWL         12   \n",
       "9  489435     22349       DOG BOWL , CHASING BALL DESIGN        12   \n",
       "\n",
       "          InvoiceDate  Price  Customer ID         Country  \n",
       "0 2009-12-01 07:45:00   6.95      13085.0  United Kingdom  \n",
       "1 2009-12-01 07:45:00   6.75      13085.0  United Kingdom  \n",
       "2 2009-12-01 07:45:00   6.75      13085.0  United Kingdom  \n",
       "3 2009-12-01 07:45:00   2.10      13085.0  United Kingdom  \n",
       "4 2009-12-01 07:45:00   1.25      13085.0  United Kingdom  \n",
       "5 2009-12-01 07:45:00   1.65      13085.0  United Kingdom  \n",
       "6 2009-12-01 07:45:00   1.25      13085.0  United Kingdom  \n",
       "7 2009-12-01 07:45:00   5.95      13085.0  United Kingdom  \n",
       "8 2009-12-01 07:46:00   2.55      13085.0  United Kingdom  \n",
       "9 2009-12-01 07:46:00   3.75      13085.0  United Kingdom  "
      ]
     },
     "execution_count": 14,
     "metadata": {},
     "output_type": "execute_result"
    }
   ],
   "source": [
    "# Acessando planilhas excel\n",
    "base_original = './Base_de_dados_original/online_retail_II.xlsx'\n",
    "abas = 'Year 2009-2010', 'Year 2010-2011'\n",
    "dados = ler_arquivo_excel(arquivo=base_original, nome_tabela=abas)\n",
    "\n",
    "# Visualizando as 10 primeiras linhas\n",
    "dados.head(10)"
   ]
  },
  {
   "cell_type": "code",
   "execution_count": 15,
   "id": "472b6559",
   "metadata": {
    "scrolled": true
   },
   "outputs": [
    {
     "data": {
      "text/plain": [
       "(1067371, 8)"
      ]
     },
     "execution_count": 15,
     "metadata": {},
     "output_type": "execute_result"
    }
   ],
   "source": [
    "# Dimesões da base de dados original\n",
    "dados.shape"
   ]
  },
  {
   "cell_type": "markdown",
   "id": "9b006357",
   "metadata": {},
   "source": [
    "### Verificando dados inconsistentes e  Dados nulos"
   ]
  },
  {
   "cell_type": "code",
   "execution_count": null,
   "id": "01ba020f",
   "metadata": {},
   "outputs": [],
   "source": [
    "# Colunas do dataframe\n",
    "dados.columns"
   ]
  },
  {
   "cell_type": "code",
   "execution_count": 16,
   "id": "1f9d9b53",
   "metadata": {},
   "outputs": [
    {
     "data": {
      "text/plain": [
       "Invoice             0\n",
       "StockCode           0\n",
       "Description      4382\n",
       "Quantity            0\n",
       "InvoiceDate         0\n",
       "Price               0\n",
       "Customer ID    243007\n",
       "Country             0\n",
       "dtype: int64"
      ]
     },
     "execution_count": 16,
     "metadata": {},
     "output_type": "execute_result"
    }
   ],
   "source": [
    "# Verificando nulos\n",
    "dados.isnull().sum()"
   ]
  },
  {
   "cell_type": "code",
   "execution_count": 17,
   "id": "a178e874",
   "metadata": {
    "scrolled": false
   },
   "outputs": [
    {
     "data": {
      "text/html": [
       "<div>\n",
       "<style scoped>\n",
       "    .dataframe tbody tr th:only-of-type {\n",
       "        vertical-align: middle;\n",
       "    }\n",
       "\n",
       "    .dataframe tbody tr th {\n",
       "        vertical-align: top;\n",
       "    }\n",
       "\n",
       "    .dataframe thead th {\n",
       "        text-align: right;\n",
       "    }\n",
       "</style>\n",
       "<table border=\"1\" class=\"dataframe\">\n",
       "  <thead>\n",
       "    <tr style=\"text-align: right;\">\n",
       "      <th></th>\n",
       "      <th>Invoice</th>\n",
       "      <th>StockCode</th>\n",
       "      <th>Description</th>\n",
       "      <th>Quantity</th>\n",
       "      <th>InvoiceDate</th>\n",
       "      <th>Price</th>\n",
       "      <th>Customer ID</th>\n",
       "      <th>Country</th>\n",
       "    </tr>\n",
       "  </thead>\n",
       "  <tbody>\n",
       "    <tr>\n",
       "      <th>178</th>\n",
       "      <td>C489449</td>\n",
       "      <td>22087</td>\n",
       "      <td>PAPER BUNTING WHITE LACE</td>\n",
       "      <td>-12</td>\n",
       "      <td>2009-12-01 10:33:00</td>\n",
       "      <td>2.95</td>\n",
       "      <td>16321.0</td>\n",
       "      <td>Australia</td>\n",
       "    </tr>\n",
       "    <tr>\n",
       "      <th>179</th>\n",
       "      <td>C489449</td>\n",
       "      <td>85206A</td>\n",
       "      <td>CREAM FELT EASTER EGG BASKET</td>\n",
       "      <td>-6</td>\n",
       "      <td>2009-12-01 10:33:00</td>\n",
       "      <td>1.65</td>\n",
       "      <td>16321.0</td>\n",
       "      <td>Australia</td>\n",
       "    </tr>\n",
       "    <tr>\n",
       "      <th>180</th>\n",
       "      <td>C489449</td>\n",
       "      <td>21895</td>\n",
       "      <td>POTTING SHED SOW 'N' GROW SET</td>\n",
       "      <td>-4</td>\n",
       "      <td>2009-12-01 10:33:00</td>\n",
       "      <td>4.25</td>\n",
       "      <td>16321.0</td>\n",
       "      <td>Australia</td>\n",
       "    </tr>\n",
       "    <tr>\n",
       "      <th>181</th>\n",
       "      <td>C489449</td>\n",
       "      <td>21896</td>\n",
       "      <td>POTTING SHED TWINE</td>\n",
       "      <td>-6</td>\n",
       "      <td>2009-12-01 10:33:00</td>\n",
       "      <td>2.10</td>\n",
       "      <td>16321.0</td>\n",
       "      <td>Australia</td>\n",
       "    </tr>\n",
       "    <tr>\n",
       "      <th>182</th>\n",
       "      <td>C489449</td>\n",
       "      <td>22083</td>\n",
       "      <td>PAPER CHAIN KIT RETRO SPOT</td>\n",
       "      <td>-12</td>\n",
       "      <td>2009-12-01 10:33:00</td>\n",
       "      <td>2.95</td>\n",
       "      <td>16321.0</td>\n",
       "      <td>Australia</td>\n",
       "    </tr>\n",
       "    <tr>\n",
       "      <th>...</th>\n",
       "      <td>...</td>\n",
       "      <td>...</td>\n",
       "      <td>...</td>\n",
       "      <td>...</td>\n",
       "      <td>...</td>\n",
       "      <td>...</td>\n",
       "      <td>...</td>\n",
       "      <td>...</td>\n",
       "    </tr>\n",
       "    <tr>\n",
       "      <th>540449</th>\n",
       "      <td>C581490</td>\n",
       "      <td>23144</td>\n",
       "      <td>ZINC T-LIGHT HOLDER STARS SMALL</td>\n",
       "      <td>-11</td>\n",
       "      <td>2011-12-09 09:57:00</td>\n",
       "      <td>0.83</td>\n",
       "      <td>14397.0</td>\n",
       "      <td>United Kingdom</td>\n",
       "    </tr>\n",
       "    <tr>\n",
       "      <th>541541</th>\n",
       "      <td>C581499</td>\n",
       "      <td>M</td>\n",
       "      <td>Manual</td>\n",
       "      <td>-1</td>\n",
       "      <td>2011-12-09 10:28:00</td>\n",
       "      <td>224.69</td>\n",
       "      <td>15498.0</td>\n",
       "      <td>United Kingdom</td>\n",
       "    </tr>\n",
       "    <tr>\n",
       "      <th>541715</th>\n",
       "      <td>C581568</td>\n",
       "      <td>21258</td>\n",
       "      <td>VICTORIAN SEWING BOX LARGE</td>\n",
       "      <td>-5</td>\n",
       "      <td>2011-12-09 11:57:00</td>\n",
       "      <td>10.95</td>\n",
       "      <td>15311.0</td>\n",
       "      <td>United Kingdom</td>\n",
       "    </tr>\n",
       "    <tr>\n",
       "      <th>541716</th>\n",
       "      <td>C581569</td>\n",
       "      <td>84978</td>\n",
       "      <td>HANGING HEART JAR T-LIGHT HOLDER</td>\n",
       "      <td>-1</td>\n",
       "      <td>2011-12-09 11:58:00</td>\n",
       "      <td>1.25</td>\n",
       "      <td>17315.0</td>\n",
       "      <td>United Kingdom</td>\n",
       "    </tr>\n",
       "    <tr>\n",
       "      <th>541717</th>\n",
       "      <td>C581569</td>\n",
       "      <td>20979</td>\n",
       "      <td>36 PENCILS TUBE RED RETROSPOT</td>\n",
       "      <td>-5</td>\n",
       "      <td>2011-12-09 11:58:00</td>\n",
       "      <td>1.25</td>\n",
       "      <td>17315.0</td>\n",
       "      <td>United Kingdom</td>\n",
       "    </tr>\n",
       "  </tbody>\n",
       "</table>\n",
       "<p>19494 rows × 8 columns</p>\n",
       "</div>"
      ],
      "text/plain": [
       "        Invoice StockCode                       Description  Quantity  \\\n",
       "178     C489449     22087          PAPER BUNTING WHITE LACE       -12   \n",
       "179     C489449    85206A      CREAM FELT EASTER EGG BASKET        -6   \n",
       "180     C489449     21895     POTTING SHED SOW 'N' GROW SET        -4   \n",
       "181     C489449     21896                POTTING SHED TWINE        -6   \n",
       "182     C489449     22083        PAPER CHAIN KIT RETRO SPOT       -12   \n",
       "...         ...       ...                               ...       ...   \n",
       "540449  C581490     23144   ZINC T-LIGHT HOLDER STARS SMALL       -11   \n",
       "541541  C581499         M                            Manual        -1   \n",
       "541715  C581568     21258        VICTORIAN SEWING BOX LARGE        -5   \n",
       "541716  C581569     84978  HANGING HEART JAR T-LIGHT HOLDER        -1   \n",
       "541717  C581569     20979     36 PENCILS TUBE RED RETROSPOT        -5   \n",
       "\n",
       "               InvoiceDate   Price  Customer ID         Country  \n",
       "178    2009-12-01 10:33:00    2.95      16321.0       Australia  \n",
       "179    2009-12-01 10:33:00    1.65      16321.0       Australia  \n",
       "180    2009-12-01 10:33:00    4.25      16321.0       Australia  \n",
       "181    2009-12-01 10:33:00    2.10      16321.0       Australia  \n",
       "182    2009-12-01 10:33:00    2.95      16321.0       Australia  \n",
       "...                    ...     ...          ...             ...  \n",
       "540449 2011-12-09 09:57:00    0.83      14397.0  United Kingdom  \n",
       "541541 2011-12-09 10:28:00  224.69      15498.0  United Kingdom  \n",
       "541715 2011-12-09 11:57:00   10.95      15311.0  United Kingdom  \n",
       "541716 2011-12-09 11:58:00    1.25      17315.0  United Kingdom  \n",
       "541717 2011-12-09 11:58:00    1.25      17315.0  United Kingdom  \n",
       "\n",
       "[19494 rows x 8 columns]"
      ]
     },
     "execution_count": 17,
     "metadata": {},
     "output_type": "execute_result"
    }
   ],
   "source": [
    "# Transformando coluna 'Invoice' em string\n",
    "dados['Invoice'] = dados['Invoice'].astype(str)\n",
    "\n",
    "# Verificando notas canceladas\n",
    "dados[dados['Invoice'].str.contains('C')]"
   ]
  },
  {
   "cell_type": "code",
   "execution_count": 18,
   "id": "41d25334",
   "metadata": {},
   "outputs": [
    {
     "data": {
      "text/html": [
       "<div>\n",
       "<style scoped>\n",
       "    .dataframe tbody tr th:only-of-type {\n",
       "        vertical-align: middle;\n",
       "    }\n",
       "\n",
       "    .dataframe tbody tr th {\n",
       "        vertical-align: top;\n",
       "    }\n",
       "\n",
       "    .dataframe thead th {\n",
       "        text-align: right;\n",
       "    }\n",
       "</style>\n",
       "<table border=\"1\" class=\"dataframe\">\n",
       "  <thead>\n",
       "    <tr style=\"text-align: right;\">\n",
       "      <th></th>\n",
       "      <th>Invoice</th>\n",
       "      <th>StockCode</th>\n",
       "      <th>Description</th>\n",
       "      <th>Quantity</th>\n",
       "      <th>InvoiceDate</th>\n",
       "      <th>Price</th>\n",
       "      <th>Customer ID</th>\n",
       "      <th>Country</th>\n",
       "    </tr>\n",
       "  </thead>\n",
       "  <tbody>\n",
       "    <tr>\n",
       "      <th>27994</th>\n",
       "      <td>491725</td>\n",
       "      <td>TEST001</td>\n",
       "      <td>This is a test product.</td>\n",
       "      <td>10</td>\n",
       "      <td>2009-12-14 08:34:00</td>\n",
       "      <td>4.5</td>\n",
       "      <td>12346.0</td>\n",
       "      <td>United Kingdom</td>\n",
       "    </tr>\n",
       "    <tr>\n",
       "      <th>28251</th>\n",
       "      <td>491742</td>\n",
       "      <td>TEST001</td>\n",
       "      <td>This is a test product.</td>\n",
       "      <td>5</td>\n",
       "      <td>2009-12-14 11:00:00</td>\n",
       "      <td>4.5</td>\n",
       "      <td>12346.0</td>\n",
       "      <td>United Kingdom</td>\n",
       "    </tr>\n",
       "    <tr>\n",
       "      <th>28254</th>\n",
       "      <td>491744</td>\n",
       "      <td>TEST001</td>\n",
       "      <td>This is a test product.</td>\n",
       "      <td>5</td>\n",
       "      <td>2009-12-14 11:02:00</td>\n",
       "      <td>4.5</td>\n",
       "      <td>12346.0</td>\n",
       "      <td>United Kingdom</td>\n",
       "    </tr>\n",
       "    <tr>\n",
       "      <th>39398</th>\n",
       "      <td>492718</td>\n",
       "      <td>TEST001</td>\n",
       "      <td>This is a test product.</td>\n",
       "      <td>5</td>\n",
       "      <td>2009-12-18 10:47:00</td>\n",
       "      <td>4.5</td>\n",
       "      <td>12346.0</td>\n",
       "      <td>United Kingdom</td>\n",
       "    </tr>\n",
       "    <tr>\n",
       "      <th>39411</th>\n",
       "      <td>492722</td>\n",
       "      <td>TEST002</td>\n",
       "      <td>This is a test product.</td>\n",
       "      <td>1</td>\n",
       "      <td>2009-12-18 10:55:00</td>\n",
       "      <td>1.0</td>\n",
       "      <td>12346.0</td>\n",
       "      <td>United Kingdom</td>\n",
       "    </tr>\n",
       "    <tr>\n",
       "      <th>44614</th>\n",
       "      <td>493294</td>\n",
       "      <td>TEST002</td>\n",
       "      <td>NaN</td>\n",
       "      <td>1</td>\n",
       "      <td>2009-12-22 15:15:00</td>\n",
       "      <td>0.0</td>\n",
       "      <td>NaN</td>\n",
       "      <td>United Kingdom</td>\n",
       "    </tr>\n",
       "    <tr>\n",
       "      <th>45228</th>\n",
       "      <td>493410</td>\n",
       "      <td>TEST001</td>\n",
       "      <td>This is a test product.</td>\n",
       "      <td>5</td>\n",
       "      <td>2010-01-04 09:24:00</td>\n",
       "      <td>4.5</td>\n",
       "      <td>12346.0</td>\n",
       "      <td>United Kingdom</td>\n",
       "    </tr>\n",
       "    <tr>\n",
       "      <th>45230</th>\n",
       "      <td>493412</td>\n",
       "      <td>TEST001</td>\n",
       "      <td>This is a test product.</td>\n",
       "      <td>5</td>\n",
       "      <td>2010-01-04 09:53:00</td>\n",
       "      <td>4.5</td>\n",
       "      <td>12346.0</td>\n",
       "      <td>United Kingdom</td>\n",
       "    </tr>\n",
       "    <tr>\n",
       "      <th>56117</th>\n",
       "      <td>494450</td>\n",
       "      <td>TEST001</td>\n",
       "      <td>This is a test product.</td>\n",
       "      <td>5</td>\n",
       "      <td>2010-01-14 13:50:00</td>\n",
       "      <td>4.5</td>\n",
       "      <td>12346.0</td>\n",
       "      <td>United Kingdom</td>\n",
       "    </tr>\n",
       "    <tr>\n",
       "      <th>66084</th>\n",
       "      <td>495295</td>\n",
       "      <td>TEST001</td>\n",
       "      <td>This is a test product.</td>\n",
       "      <td>5</td>\n",
       "      <td>2010-01-22 13:30:00</td>\n",
       "      <td>4.5</td>\n",
       "      <td>12346.0</td>\n",
       "      <td>United Kingdom</td>\n",
       "    </tr>\n",
       "    <tr>\n",
       "      <th>89084</th>\n",
       "      <td>497819</td>\n",
       "      <td>TEST001</td>\n",
       "      <td>This is a test product.</td>\n",
       "      <td>5</td>\n",
       "      <td>2010-02-12 14:58:00</td>\n",
       "      <td>0.0</td>\n",
       "      <td>14103.0</td>\n",
       "      <td>United Kingdom</td>\n",
       "    </tr>\n",
       "    <tr>\n",
       "      <th>89180</th>\n",
       "      <td>497843</td>\n",
       "      <td>TEST001</td>\n",
       "      <td>This is a test product.</td>\n",
       "      <td>5</td>\n",
       "      <td>2010-02-12 15:47:00</td>\n",
       "      <td>0.0</td>\n",
       "      <td>14827.0</td>\n",
       "      <td>United Kingdom</td>\n",
       "    </tr>\n",
       "    <tr>\n",
       "      <th>156017</th>\n",
       "      <td>504188</td>\n",
       "      <td>TEST001</td>\n",
       "      <td>This is a test product.</td>\n",
       "      <td>5</td>\n",
       "      <td>2010-04-12 09:52:00</td>\n",
       "      <td>4.5</td>\n",
       "      <td>16454.0</td>\n",
       "      <td>United Kingdom</td>\n",
       "    </tr>\n",
       "    <tr>\n",
       "      <th>371777</th>\n",
       "      <td>C525272</td>\n",
       "      <td>TEST001</td>\n",
       "      <td>This is a test product.</td>\n",
       "      <td>-1</td>\n",
       "      <td>2010-10-04 16:29:00</td>\n",
       "      <td>4.5</td>\n",
       "      <td>16454.0</td>\n",
       "      <td>United Kingdom</td>\n",
       "    </tr>\n",
       "    <tr>\n",
       "      <th>371778</th>\n",
       "      <td>C525273</td>\n",
       "      <td>TEST001</td>\n",
       "      <td>This is a test product.</td>\n",
       "      <td>-1</td>\n",
       "      <td>2010-10-04 16:30:00</td>\n",
       "      <td>4.5</td>\n",
       "      <td>16454.0</td>\n",
       "      <td>United Kingdom</td>\n",
       "    </tr>\n",
       "    <tr>\n",
       "      <th>371779</th>\n",
       "      <td>C525274</td>\n",
       "      <td>TEST001</td>\n",
       "      <td>This is a test product.</td>\n",
       "      <td>-1</td>\n",
       "      <td>2010-10-04 16:33:00</td>\n",
       "      <td>4.5</td>\n",
       "      <td>12346.0</td>\n",
       "      <td>United Kingdom</td>\n",
       "    </tr>\n",
       "    <tr>\n",
       "      <th>371780</th>\n",
       "      <td>C525275</td>\n",
       "      <td>TEST001</td>\n",
       "      <td>This is a test product.</td>\n",
       "      <td>-2</td>\n",
       "      <td>2010-10-04 16:38:00</td>\n",
       "      <td>4.5</td>\n",
       "      <td>16446.0</td>\n",
       "      <td>United Kingdom</td>\n",
       "    </tr>\n",
       "  </tbody>\n",
       "</table>\n",
       "</div>"
      ],
      "text/plain": [
       "        Invoice StockCode              Description  Quantity  \\\n",
       "27994    491725   TEST001  This is a test product.        10   \n",
       "28251    491742   TEST001  This is a test product.         5   \n",
       "28254    491744   TEST001  This is a test product.         5   \n",
       "39398    492718   TEST001  This is a test product.         5   \n",
       "39411    492722   TEST002  This is a test product.         1   \n",
       "44614    493294   TEST002                      NaN         1   \n",
       "45228    493410   TEST001  This is a test product.         5   \n",
       "45230    493412   TEST001  This is a test product.         5   \n",
       "56117    494450   TEST001  This is a test product.         5   \n",
       "66084    495295   TEST001  This is a test product.         5   \n",
       "89084    497819   TEST001  This is a test product.         5   \n",
       "89180    497843   TEST001  This is a test product.         5   \n",
       "156017   504188   TEST001  This is a test product.         5   \n",
       "371777  C525272   TEST001  This is a test product.        -1   \n",
       "371778  C525273   TEST001  This is a test product.        -1   \n",
       "371779  C525274   TEST001  This is a test product.        -1   \n",
       "371780  C525275   TEST001  This is a test product.        -2   \n",
       "\n",
       "               InvoiceDate  Price  Customer ID         Country  \n",
       "27994  2009-12-14 08:34:00    4.5      12346.0  United Kingdom  \n",
       "28251  2009-12-14 11:00:00    4.5      12346.0  United Kingdom  \n",
       "28254  2009-12-14 11:02:00    4.5      12346.0  United Kingdom  \n",
       "39398  2009-12-18 10:47:00    4.5      12346.0  United Kingdom  \n",
       "39411  2009-12-18 10:55:00    1.0      12346.0  United Kingdom  \n",
       "44614  2009-12-22 15:15:00    0.0          NaN  United Kingdom  \n",
       "45228  2010-01-04 09:24:00    4.5      12346.0  United Kingdom  \n",
       "45230  2010-01-04 09:53:00    4.5      12346.0  United Kingdom  \n",
       "56117  2010-01-14 13:50:00    4.5      12346.0  United Kingdom  \n",
       "66084  2010-01-22 13:30:00    4.5      12346.0  United Kingdom  \n",
       "89084  2010-02-12 14:58:00    0.0      14103.0  United Kingdom  \n",
       "89180  2010-02-12 15:47:00    0.0      14827.0  United Kingdom  \n",
       "156017 2010-04-12 09:52:00    4.5      16454.0  United Kingdom  \n",
       "371777 2010-10-04 16:29:00    4.5      16454.0  United Kingdom  \n",
       "371778 2010-10-04 16:30:00    4.5      16454.0  United Kingdom  \n",
       "371779 2010-10-04 16:33:00    4.5      12346.0  United Kingdom  \n",
       "371780 2010-10-04 16:38:00    4.5      16446.0  United Kingdom  "
      ]
     },
     "execution_count": 18,
     "metadata": {},
     "output_type": "execute_result"
    }
   ],
   "source": [
    "# Transformando coluna 'Id_produto' em string\n",
    "dados['StockCode'] = dados['StockCode'].astype(str)\n",
    "\n",
    "# Verificando produtos TEST\n",
    "dados[dados['StockCode'].str.contains('TEST')]"
   ]
  },
  {
   "cell_type": "markdown",
   "id": "4beacd2d",
   "metadata": {},
   "source": [
    "### Transformando os dados"
   ]
  },
  {
   "cell_type": "code",
   "execution_count": 19,
   "id": "5b3bb626",
   "metadata": {
    "scrolled": true
   },
   "outputs": [],
   "source": [
    "# Transformação da base de dados\n",
    "dados = transforma_dados(dados)"
   ]
  },
  {
   "cell_type": "code",
   "execution_count": null,
   "id": "1c8cd8ba",
   "metadata": {},
   "outputs": [],
   "source": [
    "# Colunas do dataframe\n",
    "dados.columns"
   ]
  },
  {
   "cell_type": "code",
   "execution_count": 20,
   "id": "68113f1d",
   "metadata": {},
   "outputs": [
    {
     "data": {
      "text/plain": [
       "Invoice          0\n",
       "Id_produto       0\n",
       "Produto          0\n",
       "Quantidade       0\n",
       "Data             0\n",
       "Preço            0\n",
       "Id_cliente       0\n",
       "Localização      0\n",
       "Total_vendido    0\n",
       "dtype: int64"
      ]
     },
     "execution_count": 20,
     "metadata": {},
     "output_type": "execute_result"
    }
   ],
   "source": [
    "# Verificando nulos\n",
    "dados.isnull().sum()"
   ]
  },
  {
   "cell_type": "code",
   "execution_count": 21,
   "id": "e1f0c4d8",
   "metadata": {
    "scrolled": false
   },
   "outputs": [
    {
     "data": {
      "text/html": [
       "<div>\n",
       "<style scoped>\n",
       "    .dataframe tbody tr th:only-of-type {\n",
       "        vertical-align: middle;\n",
       "    }\n",
       "\n",
       "    .dataframe tbody tr th {\n",
       "        vertical-align: top;\n",
       "    }\n",
       "\n",
       "    .dataframe thead th {\n",
       "        text-align: right;\n",
       "    }\n",
       "</style>\n",
       "<table border=\"1\" class=\"dataframe\">\n",
       "  <thead>\n",
       "    <tr style=\"text-align: right;\">\n",
       "      <th></th>\n",
       "      <th>Invoice</th>\n",
       "      <th>Id_produto</th>\n",
       "      <th>Produto</th>\n",
       "      <th>Quantidade</th>\n",
       "      <th>Data</th>\n",
       "      <th>Preço</th>\n",
       "      <th>Id_cliente</th>\n",
       "      <th>Localização</th>\n",
       "      <th>Total_vendido</th>\n",
       "    </tr>\n",
       "  </thead>\n",
       "  <tbody>\n",
       "    <tr>\n",
       "      <th>178</th>\n",
       "      <td>C489449</td>\n",
       "      <td>22087</td>\n",
       "      <td>PAPER BUNTING WHITE LACE</td>\n",
       "      <td>0</td>\n",
       "      <td>2009-12-01 10:33:00</td>\n",
       "      <td>0.0</td>\n",
       "      <td>16321.0</td>\n",
       "      <td>Australia</td>\n",
       "      <td>0.0</td>\n",
       "    </tr>\n",
       "    <tr>\n",
       "      <th>179</th>\n",
       "      <td>C489449</td>\n",
       "      <td>85206A</td>\n",
       "      <td>CREAM FELT EASTER EGG BASKET</td>\n",
       "      <td>0</td>\n",
       "      <td>2009-12-01 10:33:00</td>\n",
       "      <td>0.0</td>\n",
       "      <td>16321.0</td>\n",
       "      <td>Australia</td>\n",
       "      <td>0.0</td>\n",
       "    </tr>\n",
       "    <tr>\n",
       "      <th>180</th>\n",
       "      <td>C489449</td>\n",
       "      <td>21895</td>\n",
       "      <td>POTTING SHED SOW 'N' GROW SET</td>\n",
       "      <td>0</td>\n",
       "      <td>2009-12-01 10:33:00</td>\n",
       "      <td>0.0</td>\n",
       "      <td>16321.0</td>\n",
       "      <td>Australia</td>\n",
       "      <td>0.0</td>\n",
       "    </tr>\n",
       "    <tr>\n",
       "      <th>181</th>\n",
       "      <td>C489449</td>\n",
       "      <td>21896</td>\n",
       "      <td>POTTING SHED TWINE</td>\n",
       "      <td>0</td>\n",
       "      <td>2009-12-01 10:33:00</td>\n",
       "      <td>0.0</td>\n",
       "      <td>16321.0</td>\n",
       "      <td>Australia</td>\n",
       "      <td>0.0</td>\n",
       "    </tr>\n",
       "    <tr>\n",
       "      <th>182</th>\n",
       "      <td>C489449</td>\n",
       "      <td>22083</td>\n",
       "      <td>PAPER CHAIN KIT RETRO SPOT</td>\n",
       "      <td>0</td>\n",
       "      <td>2009-12-01 10:33:00</td>\n",
       "      <td>0.0</td>\n",
       "      <td>16321.0</td>\n",
       "      <td>Australia</td>\n",
       "      <td>0.0</td>\n",
       "    </tr>\n",
       "    <tr>\n",
       "      <th>...</th>\n",
       "      <td>...</td>\n",
       "      <td>...</td>\n",
       "      <td>...</td>\n",
       "      <td>...</td>\n",
       "      <td>...</td>\n",
       "      <td>...</td>\n",
       "      <td>...</td>\n",
       "      <td>...</td>\n",
       "      <td>...</td>\n",
       "    </tr>\n",
       "    <tr>\n",
       "      <th>540449</th>\n",
       "      <td>C581490</td>\n",
       "      <td>23144</td>\n",
       "      <td>ZINC T-LIGHT HOLDER STARS SMALL</td>\n",
       "      <td>0</td>\n",
       "      <td>2011-12-09 09:57:00</td>\n",
       "      <td>0.0</td>\n",
       "      <td>14397.0</td>\n",
       "      <td>United Kingdom</td>\n",
       "      <td>0.0</td>\n",
       "    </tr>\n",
       "    <tr>\n",
       "      <th>541541</th>\n",
       "      <td>C581499</td>\n",
       "      <td>M</td>\n",
       "      <td>Manual</td>\n",
       "      <td>0</td>\n",
       "      <td>2011-12-09 10:28:00</td>\n",
       "      <td>0.0</td>\n",
       "      <td>15498.0</td>\n",
       "      <td>United Kingdom</td>\n",
       "      <td>0.0</td>\n",
       "    </tr>\n",
       "    <tr>\n",
       "      <th>541715</th>\n",
       "      <td>C581568</td>\n",
       "      <td>21258</td>\n",
       "      <td>VICTORIAN SEWING BOX LARGE</td>\n",
       "      <td>0</td>\n",
       "      <td>2011-12-09 11:57:00</td>\n",
       "      <td>0.0</td>\n",
       "      <td>15311.0</td>\n",
       "      <td>United Kingdom</td>\n",
       "      <td>0.0</td>\n",
       "    </tr>\n",
       "    <tr>\n",
       "      <th>541716</th>\n",
       "      <td>C581569</td>\n",
       "      <td>84978</td>\n",
       "      <td>HANGING HEART JAR T-LIGHT HOLDER</td>\n",
       "      <td>0</td>\n",
       "      <td>2011-12-09 11:58:00</td>\n",
       "      <td>0.0</td>\n",
       "      <td>17315.0</td>\n",
       "      <td>United Kingdom</td>\n",
       "      <td>0.0</td>\n",
       "    </tr>\n",
       "    <tr>\n",
       "      <th>541717</th>\n",
       "      <td>C581569</td>\n",
       "      <td>20979</td>\n",
       "      <td>36 PENCILS TUBE RED RETROSPOT</td>\n",
       "      <td>0</td>\n",
       "      <td>2011-12-09 11:58:00</td>\n",
       "      <td>0.0</td>\n",
       "      <td>17315.0</td>\n",
       "      <td>United Kingdom</td>\n",
       "      <td>0.0</td>\n",
       "    </tr>\n",
       "  </tbody>\n",
       "</table>\n",
       "<p>18740 rows × 9 columns</p>\n",
       "</div>"
      ],
      "text/plain": [
       "        Invoice Id_produto                           Produto  Quantidade  \\\n",
       "178     C489449      22087          PAPER BUNTING WHITE LACE           0   \n",
       "179     C489449     85206A      CREAM FELT EASTER EGG BASKET           0   \n",
       "180     C489449      21895     POTTING SHED SOW 'N' GROW SET           0   \n",
       "181     C489449      21896                POTTING SHED TWINE           0   \n",
       "182     C489449      22083        PAPER CHAIN KIT RETRO SPOT           0   \n",
       "...         ...        ...                               ...         ...   \n",
       "540449  C581490      23144   ZINC T-LIGHT HOLDER STARS SMALL           0   \n",
       "541541  C581499          M                            Manual           0   \n",
       "541715  C581568      21258        VICTORIAN SEWING BOX LARGE           0   \n",
       "541716  C581569      84978  HANGING HEART JAR T-LIGHT HOLDER           0   \n",
       "541717  C581569      20979     36 PENCILS TUBE RED RETROSPOT           0   \n",
       "\n",
       "                      Data  Preço  Id_cliente     Localização  Total_vendido  \n",
       "178    2009-12-01 10:33:00    0.0     16321.0       Australia            0.0  \n",
       "179    2009-12-01 10:33:00    0.0     16321.0       Australia            0.0  \n",
       "180    2009-12-01 10:33:00    0.0     16321.0       Australia            0.0  \n",
       "181    2009-12-01 10:33:00    0.0     16321.0       Australia            0.0  \n",
       "182    2009-12-01 10:33:00    0.0     16321.0       Australia            0.0  \n",
       "...                    ...    ...         ...             ...            ...  \n",
       "540449 2011-12-09 09:57:00    0.0     14397.0  United Kingdom            0.0  \n",
       "541541 2011-12-09 10:28:00    0.0     15498.0  United Kingdom            0.0  \n",
       "541715 2011-12-09 11:57:00    0.0     15311.0  United Kingdom            0.0  \n",
       "541716 2011-12-09 11:58:00    0.0     17315.0  United Kingdom            0.0  \n",
       "541717 2011-12-09 11:58:00    0.0     17315.0  United Kingdom            0.0  \n",
       "\n",
       "[18740 rows x 9 columns]"
      ]
     },
     "execution_count": 21,
     "metadata": {},
     "output_type": "execute_result"
    }
   ],
   "source": [
    "# Verificando alterações\n",
    "dados[dados['Invoice'].str.contains('C')]"
   ]
  },
  {
   "cell_type": "code",
   "execution_count": 22,
   "id": "0820db8c",
   "metadata": {},
   "outputs": [
    {
     "data": {
      "text/html": [
       "<div>\n",
       "<style scoped>\n",
       "    .dataframe tbody tr th:only-of-type {\n",
       "        vertical-align: middle;\n",
       "    }\n",
       "\n",
       "    .dataframe tbody tr th {\n",
       "        vertical-align: top;\n",
       "    }\n",
       "\n",
       "    .dataframe thead th {\n",
       "        text-align: right;\n",
       "    }\n",
       "</style>\n",
       "<table border=\"1\" class=\"dataframe\">\n",
       "  <thead>\n",
       "    <tr style=\"text-align: right;\">\n",
       "      <th></th>\n",
       "      <th>Invoice</th>\n",
       "      <th>Id_produto</th>\n",
       "      <th>Produto</th>\n",
       "      <th>Quantidade</th>\n",
       "      <th>Data</th>\n",
       "      <th>Preço</th>\n",
       "      <th>Id_cliente</th>\n",
       "      <th>Localização</th>\n",
       "      <th>Total_vendido</th>\n",
       "    </tr>\n",
       "  </thead>\n",
       "  <tbody>\n",
       "  </tbody>\n",
       "</table>\n",
       "</div>"
      ],
      "text/plain": [
       "Empty DataFrame\n",
       "Columns: [Invoice, Id_produto, Produto, Quantidade, Data, Preço, Id_cliente, Localização, Total_vendido]\n",
       "Index: []"
      ]
     },
     "execution_count": 22,
     "metadata": {},
     "output_type": "execute_result"
    }
   ],
   "source": [
    "# Verificando produtos TEST\n",
    "dados[dados['Id_produto'].str.contains('TEST')]"
   ]
  },
  {
   "cell_type": "code",
   "execution_count": 23,
   "id": "ffc41cc6",
   "metadata": {
    "scrolled": true
   },
   "outputs": [
    {
     "data": {
      "text/html": [
       "<div>\n",
       "<style scoped>\n",
       "    .dataframe tbody tr th:only-of-type {\n",
       "        vertical-align: middle;\n",
       "    }\n",
       "\n",
       "    .dataframe tbody tr th {\n",
       "        vertical-align: top;\n",
       "    }\n",
       "\n",
       "    .dataframe thead th {\n",
       "        text-align: right;\n",
       "    }\n",
       "</style>\n",
       "<table border=\"1\" class=\"dataframe\">\n",
       "  <thead>\n",
       "    <tr style=\"text-align: right;\">\n",
       "      <th></th>\n",
       "      <th>Invoice</th>\n",
       "      <th>Id_produto</th>\n",
       "      <th>Produto</th>\n",
       "      <th>Quantidade</th>\n",
       "      <th>Data</th>\n",
       "      <th>Preço</th>\n",
       "      <th>Id_cliente</th>\n",
       "      <th>Localização</th>\n",
       "      <th>Total_vendido</th>\n",
       "    </tr>\n",
       "  </thead>\n",
       "  <tbody>\n",
       "    <tr>\n",
       "      <th>0</th>\n",
       "      <td>489434</td>\n",
       "      <td>85048</td>\n",
       "      <td>15CM CHRISTMAS GLASS BALL 20 LIGHTS</td>\n",
       "      <td>12</td>\n",
       "      <td>2009-12-01 07:45:00</td>\n",
       "      <td>6.95</td>\n",
       "      <td>13085.0</td>\n",
       "      <td>United Kingdom</td>\n",
       "      <td>83.4</td>\n",
       "    </tr>\n",
       "    <tr>\n",
       "      <th>1</th>\n",
       "      <td>489434</td>\n",
       "      <td>79323P</td>\n",
       "      <td>PINK CHERRY LIGHTS</td>\n",
       "      <td>12</td>\n",
       "      <td>2009-12-01 07:45:00</td>\n",
       "      <td>6.75</td>\n",
       "      <td>13085.0</td>\n",
       "      <td>United Kingdom</td>\n",
       "      <td>81.0</td>\n",
       "    </tr>\n",
       "    <tr>\n",
       "      <th>2</th>\n",
       "      <td>489434</td>\n",
       "      <td>79323W</td>\n",
       "      <td>WHITE CHERRY LIGHTS</td>\n",
       "      <td>12</td>\n",
       "      <td>2009-12-01 07:45:00</td>\n",
       "      <td>6.75</td>\n",
       "      <td>13085.0</td>\n",
       "      <td>United Kingdom</td>\n",
       "      <td>81.0</td>\n",
       "    </tr>\n",
       "    <tr>\n",
       "      <th>3</th>\n",
       "      <td>489434</td>\n",
       "      <td>22041</td>\n",
       "      <td>RECORD FRAME 7\" SINGLE SIZE</td>\n",
       "      <td>48</td>\n",
       "      <td>2009-12-01 07:45:00</td>\n",
       "      <td>2.10</td>\n",
       "      <td>13085.0</td>\n",
       "      <td>United Kingdom</td>\n",
       "      <td>100.8</td>\n",
       "    </tr>\n",
       "    <tr>\n",
       "      <th>4</th>\n",
       "      <td>489434</td>\n",
       "      <td>21232</td>\n",
       "      <td>STRAWBERRY CERAMIC TRINKET BOX</td>\n",
       "      <td>24</td>\n",
       "      <td>2009-12-01 07:45:00</td>\n",
       "      <td>1.25</td>\n",
       "      <td>13085.0</td>\n",
       "      <td>United Kingdom</td>\n",
       "      <td>30.0</td>\n",
       "    </tr>\n",
       "    <tr>\n",
       "      <th>5</th>\n",
       "      <td>489434</td>\n",
       "      <td>22064</td>\n",
       "      <td>PINK DOUGHNUT TRINKET POT</td>\n",
       "      <td>24</td>\n",
       "      <td>2009-12-01 07:45:00</td>\n",
       "      <td>1.65</td>\n",
       "      <td>13085.0</td>\n",
       "      <td>United Kingdom</td>\n",
       "      <td>39.6</td>\n",
       "    </tr>\n",
       "    <tr>\n",
       "      <th>6</th>\n",
       "      <td>489434</td>\n",
       "      <td>21871</td>\n",
       "      <td>SAVE THE PLANET MUG</td>\n",
       "      <td>24</td>\n",
       "      <td>2009-12-01 07:45:00</td>\n",
       "      <td>1.25</td>\n",
       "      <td>13085.0</td>\n",
       "      <td>United Kingdom</td>\n",
       "      <td>30.0</td>\n",
       "    </tr>\n",
       "    <tr>\n",
       "      <th>7</th>\n",
       "      <td>489434</td>\n",
       "      <td>21523</td>\n",
       "      <td>FANCY FONT HOME SWEET HOME DOORMAT</td>\n",
       "      <td>10</td>\n",
       "      <td>2009-12-01 07:45:00</td>\n",
       "      <td>5.95</td>\n",
       "      <td>13085.0</td>\n",
       "      <td>United Kingdom</td>\n",
       "      <td>59.5</td>\n",
       "    </tr>\n",
       "    <tr>\n",
       "      <th>8</th>\n",
       "      <td>489435</td>\n",
       "      <td>22350</td>\n",
       "      <td>CAT BOWL</td>\n",
       "      <td>12</td>\n",
       "      <td>2009-12-01 07:46:00</td>\n",
       "      <td>2.55</td>\n",
       "      <td>13085.0</td>\n",
       "      <td>United Kingdom</td>\n",
       "      <td>30.6</td>\n",
       "    </tr>\n",
       "    <tr>\n",
       "      <th>9</th>\n",
       "      <td>489435</td>\n",
       "      <td>22349</td>\n",
       "      <td>DOG BOWL , CHASING BALL DESIGN</td>\n",
       "      <td>12</td>\n",
       "      <td>2009-12-01 07:46:00</td>\n",
       "      <td>3.75</td>\n",
       "      <td>13085.0</td>\n",
       "      <td>United Kingdom</td>\n",
       "      <td>45.0</td>\n",
       "    </tr>\n",
       "  </tbody>\n",
       "</table>\n",
       "</div>"
      ],
      "text/plain": [
       "  Invoice Id_produto                              Produto  Quantidade  \\\n",
       "0  489434      85048  15CM CHRISTMAS GLASS BALL 20 LIGHTS          12   \n",
       "1  489434     79323P                   PINK CHERRY LIGHTS          12   \n",
       "2  489434     79323W                  WHITE CHERRY LIGHTS          12   \n",
       "3  489434      22041         RECORD FRAME 7\" SINGLE SIZE           48   \n",
       "4  489434      21232       STRAWBERRY CERAMIC TRINKET BOX          24   \n",
       "5  489434      22064           PINK DOUGHNUT TRINKET POT           24   \n",
       "6  489434      21871                  SAVE THE PLANET MUG          24   \n",
       "7  489434      21523   FANCY FONT HOME SWEET HOME DOORMAT          10   \n",
       "8  489435      22350                            CAT BOWL           12   \n",
       "9  489435      22349       DOG BOWL , CHASING BALL DESIGN          12   \n",
       "\n",
       "                 Data  Preço  Id_cliente     Localização  Total_vendido  \n",
       "0 2009-12-01 07:45:00   6.95     13085.0  United Kingdom           83.4  \n",
       "1 2009-12-01 07:45:00   6.75     13085.0  United Kingdom           81.0  \n",
       "2 2009-12-01 07:45:00   6.75     13085.0  United Kingdom           81.0  \n",
       "3 2009-12-01 07:45:00   2.10     13085.0  United Kingdom          100.8  \n",
       "4 2009-12-01 07:45:00   1.25     13085.0  United Kingdom           30.0  \n",
       "5 2009-12-01 07:45:00   1.65     13085.0  United Kingdom           39.6  \n",
       "6 2009-12-01 07:45:00   1.25     13085.0  United Kingdom           30.0  \n",
       "7 2009-12-01 07:45:00   5.95     13085.0  United Kingdom           59.5  \n",
       "8 2009-12-01 07:46:00   2.55     13085.0  United Kingdom           30.6  \n",
       "9 2009-12-01 07:46:00   3.75     13085.0  United Kingdom           45.0  "
      ]
     },
     "execution_count": 23,
     "metadata": {},
     "output_type": "execute_result"
    }
   ],
   "source": [
    "# Visualizando base de dados final\n",
    "dados.head(10)"
   ]
  },
  {
   "cell_type": "code",
   "execution_count": 24,
   "id": "b23c49b6",
   "metadata": {
    "scrolled": true
   },
   "outputs": [
    {
     "data": {
      "text/plain": [
       "(824335, 9)"
      ]
     },
     "execution_count": 24,
     "metadata": {},
     "output_type": "execute_result"
    }
   ],
   "source": [
    "# Dimensões da base de dados\n",
    "dados.shape"
   ]
  },
  {
   "cell_type": "code",
   "execution_count": 25,
   "id": "7da0c421",
   "metadata": {
    "scrolled": true
   },
   "outputs": [
    {
     "data": {
      "text/plain": [
       "Invoice          44860\n",
       "Id_produto        4644\n",
       "Produto           5298\n",
       "Quantidade         439\n",
       "Data             41425\n",
       "Preço              666\n",
       "Id_cliente        5940\n",
       "Localização         41\n",
       "Total_vendido     3920\n",
       "dtype: int64"
      ]
     },
     "execution_count": 25,
     "metadata": {},
     "output_type": "execute_result"
    }
   ],
   "source": [
    "# Verificando valores únicos\n",
    "dados.nunique()"
   ]
  },
  {
   "cell_type": "markdown",
   "id": "969124d3",
   "metadata": {},
   "source": [
    "## Preparando Dados para Carga no DB Relacional"
   ]
  },
  {
   "cell_type": "markdown",
   "id": "81b6661b",
   "metadata": {},
   "source": [
    "- Os dados receberão uma nova transformação, afim de eliminar duplicidades e serão separados em tabelas:\n",
    "     - clientes.\n",
    "     - vendas.\n",
    "     - produtos.\n",
    "     - itens venda."
   ]
  },
  {
   "cell_type": "markdown",
   "id": "828ffa83",
   "metadata": {},
   "source": [
    "### Tabela clientes"
   ]
  },
  {
   "cell_type": "code",
   "execution_count": 26,
   "id": "f0b90bb3",
   "metadata": {
    "scrolled": true
   },
   "outputs": [],
   "source": [
    "# Criando tabela Clientes\n",
    "clientes = cria_tabela_clientes(dados_base=dados)"
   ]
  },
  {
   "cell_type": "code",
   "execution_count": 27,
   "id": "62f5b47c",
   "metadata": {
    "scrolled": true
   },
   "outputs": [
    {
     "data": {
      "text/html": [
       "<div>\n",
       "<style scoped>\n",
       "    .dataframe tbody tr th:only-of-type {\n",
       "        vertical-align: middle;\n",
       "    }\n",
       "\n",
       "    .dataframe tbody tr th {\n",
       "        vertical-align: top;\n",
       "    }\n",
       "\n",
       "    .dataframe thead th {\n",
       "        text-align: right;\n",
       "    }\n",
       "</style>\n",
       "<table border=\"1\" class=\"dataframe\">\n",
       "  <thead>\n",
       "    <tr style=\"text-align: right;\">\n",
       "      <th></th>\n",
       "      <th>Id_cliente</th>\n",
       "      <th>Cliente</th>\n",
       "      <th>Email</th>\n",
       "      <th>Localização</th>\n",
       "    </tr>\n",
       "  </thead>\n",
       "  <tbody>\n",
       "    <tr>\n",
       "      <th>71080</th>\n",
       "      <td>12346</td>\n",
       "      <td>Johnson, Olson and Smith</td>\n",
       "      <td>johnsonolsonandsmith@email.com</td>\n",
       "      <td>United Kingdom</td>\n",
       "    </tr>\n",
       "    <tr>\n",
       "      <th>423892</th>\n",
       "      <td>12347</td>\n",
       "      <td>Li-Colon</td>\n",
       "      <td>li-colon@email.com</td>\n",
       "      <td>Iceland</td>\n",
       "    </tr>\n",
       "    <tr>\n",
       "      <th>358167</th>\n",
       "      <td>12348</td>\n",
       "      <td>Cochran, Johnson and Henry</td>\n",
       "      <td>cochranjohnsonandhenry@email.com</td>\n",
       "      <td>Finland</td>\n",
       "    </tr>\n",
       "    <tr>\n",
       "      <th>10837</th>\n",
       "      <td>12349</td>\n",
       "      <td>Wright Ltd</td>\n",
       "      <td>wrightltd@email.com</td>\n",
       "      <td>Italy</td>\n",
       "    </tr>\n",
       "    <tr>\n",
       "      <th>80323</th>\n",
       "      <td>12350</td>\n",
       "      <td>Williams-Dalton</td>\n",
       "      <td>williams-dalton@email.com</td>\n",
       "      <td>Norway</td>\n",
       "    </tr>\n",
       "    <tr>\n",
       "      <th>499199</th>\n",
       "      <td>12351</td>\n",
       "      <td>Kelly, Fisher and Serrano</td>\n",
       "      <td>kellyfisherandserrano@email.com</td>\n",
       "      <td>Unspecified</td>\n",
       "    </tr>\n",
       "    <tr>\n",
       "      <th>453366</th>\n",
       "      <td>12352</td>\n",
       "      <td>Bryant-Jennings</td>\n",
       "      <td>bryant-jennings@email.com</td>\n",
       "      <td>Norway</td>\n",
       "    </tr>\n",
       "    <tr>\n",
       "      <th>417341</th>\n",
       "      <td>12353</td>\n",
       "      <td>Cox, Bryant and Dalton</td>\n",
       "      <td>coxbryantanddalton@email.com</td>\n",
       "      <td>Bahrain</td>\n",
       "    </tr>\n",
       "    <tr>\n",
       "      <th>166267</th>\n",
       "      <td>12354</td>\n",
       "      <td>Montes PLC</td>\n",
       "      <td>montesplc@email.com</td>\n",
       "      <td>Spain</td>\n",
       "    </tr>\n",
       "    <tr>\n",
       "      <th>206105</th>\n",
       "      <td>12355</td>\n",
       "      <td>Williams-Smith</td>\n",
       "      <td>williams-smith@email.com</td>\n",
       "      <td>Bahrain</td>\n",
       "    </tr>\n",
       "  </tbody>\n",
       "</table>\n",
       "</div>"
      ],
      "text/plain": [
       "        Id_cliente                     Cliente  \\\n",
       "71080        12346    Johnson, Olson and Smith   \n",
       "423892       12347                    Li-Colon   \n",
       "358167       12348  Cochran, Johnson and Henry   \n",
       "10837        12349                  Wright Ltd   \n",
       "80323        12350             Williams-Dalton   \n",
       "499199       12351   Kelly, Fisher and Serrano   \n",
       "453366       12352             Bryant-Jennings   \n",
       "417341       12353      Cox, Bryant and Dalton   \n",
       "166267       12354                  Montes PLC   \n",
       "206105       12355              Williams-Smith   \n",
       "\n",
       "                                   Email     Localização  \n",
       "71080     johnsonolsonandsmith@email.com  United Kingdom  \n",
       "423892                li-colon@email.com         Iceland  \n",
       "358167  cochranjohnsonandhenry@email.com         Finland  \n",
       "10837                wrightltd@email.com           Italy  \n",
       "80323          williams-dalton@email.com          Norway  \n",
       "499199   kellyfisherandserrano@email.com     Unspecified  \n",
       "453366         bryant-jennings@email.com          Norway  \n",
       "417341      coxbryantanddalton@email.com         Bahrain  \n",
       "166267               montesplc@email.com           Spain  \n",
       "206105          williams-smith@email.com         Bahrain  "
      ]
     },
     "execution_count": 27,
     "metadata": {},
     "output_type": "execute_result"
    }
   ],
   "source": [
    "# Visualizando lista de clientes completa\n",
    "# ID, Nome, Email e localização\n",
    "clientes.head(10)"
   ]
  },
  {
   "cell_type": "code",
   "execution_count": 28,
   "id": "d519aebf",
   "metadata": {
    "scrolled": true
   },
   "outputs": [
    {
     "data": {
      "text/plain": [
       "(5940, 4)"
      ]
     },
     "execution_count": 28,
     "metadata": {},
     "output_type": "execute_result"
    }
   ],
   "source": [
    "# Dimensões da tabela clientes\n",
    "clientes.shape"
   ]
  },
  {
   "cell_type": "markdown",
   "id": "c035c2d9",
   "metadata": {},
   "source": [
    "### Tabela vendas"
   ]
  },
  {
   "cell_type": "code",
   "execution_count": 29,
   "id": "dab592f3",
   "metadata": {
    "scrolled": true
   },
   "outputs": [],
   "source": [
    "# Criando tabela Vendas\n",
    "vendas = cria_tabela_vendas(dados)"
   ]
  },
  {
   "cell_type": "code",
   "execution_count": 30,
   "id": "df7c03c9",
   "metadata": {
    "scrolled": true
   },
   "outputs": [
    {
     "data": {
      "text/html": [
       "<div>\n",
       "<style scoped>\n",
       "    .dataframe tbody tr th:only-of-type {\n",
       "        vertical-align: middle;\n",
       "    }\n",
       "\n",
       "    .dataframe tbody tr th {\n",
       "        vertical-align: top;\n",
       "    }\n",
       "\n",
       "    .dataframe thead th {\n",
       "        text-align: right;\n",
       "    }\n",
       "</style>\n",
       "<table border=\"1\" class=\"dataframe\">\n",
       "  <thead>\n",
       "    <tr style=\"text-align: right;\">\n",
       "      <th></th>\n",
       "      <th>Invoice</th>\n",
       "      <th>Id_cliente</th>\n",
       "      <th>Data</th>\n",
       "      <th>Total_vendido</th>\n",
       "    </tr>\n",
       "  </thead>\n",
       "  <tbody>\n",
       "    <tr>\n",
       "      <th>0</th>\n",
       "      <td>489434</td>\n",
       "      <td>13085</td>\n",
       "      <td>2009-12-01</td>\n",
       "      <td>505.30</td>\n",
       "    </tr>\n",
       "    <tr>\n",
       "      <th>1</th>\n",
       "      <td>489435</td>\n",
       "      <td>13085</td>\n",
       "      <td>2009-12-01</td>\n",
       "      <td>145.80</td>\n",
       "    </tr>\n",
       "    <tr>\n",
       "      <th>2</th>\n",
       "      <td>489436</td>\n",
       "      <td>13078</td>\n",
       "      <td>2009-12-01</td>\n",
       "      <td>630.33</td>\n",
       "    </tr>\n",
       "    <tr>\n",
       "      <th>3</th>\n",
       "      <td>489437</td>\n",
       "      <td>15362</td>\n",
       "      <td>2009-12-01</td>\n",
       "      <td>310.75</td>\n",
       "    </tr>\n",
       "    <tr>\n",
       "      <th>4</th>\n",
       "      <td>489438</td>\n",
       "      <td>18102</td>\n",
       "      <td>2009-12-01</td>\n",
       "      <td>2286.24</td>\n",
       "    </tr>\n",
       "    <tr>\n",
       "      <th>5</th>\n",
       "      <td>489439</td>\n",
       "      <td>12682</td>\n",
       "      <td>2009-12-01</td>\n",
       "      <td>426.30</td>\n",
       "    </tr>\n",
       "    <tr>\n",
       "      <th>6</th>\n",
       "      <td>489440</td>\n",
       "      <td>18087</td>\n",
       "      <td>2009-12-01</td>\n",
       "      <td>50.40</td>\n",
       "    </tr>\n",
       "    <tr>\n",
       "      <th>7</th>\n",
       "      <td>489441</td>\n",
       "      <td>18087</td>\n",
       "      <td>2009-12-01</td>\n",
       "      <td>344.34</td>\n",
       "    </tr>\n",
       "    <tr>\n",
       "      <th>8</th>\n",
       "      <td>489442</td>\n",
       "      <td>13635</td>\n",
       "      <td>2009-12-01</td>\n",
       "      <td>382.37</td>\n",
       "    </tr>\n",
       "    <tr>\n",
       "      <th>9</th>\n",
       "      <td>489443</td>\n",
       "      <td>14110</td>\n",
       "      <td>2009-12-01</td>\n",
       "      <td>285.06</td>\n",
       "    </tr>\n",
       "  </tbody>\n",
       "</table>\n",
       "</div>"
      ],
      "text/plain": [
       "  Invoice  Id_cliente       Data  Total_vendido\n",
       "0  489434       13085 2009-12-01         505.30\n",
       "1  489435       13085 2009-12-01         145.80\n",
       "2  489436       13078 2009-12-01         630.33\n",
       "3  489437       15362 2009-12-01         310.75\n",
       "4  489438       18102 2009-12-01        2286.24\n",
       "5  489439       12682 2009-12-01         426.30\n",
       "6  489440       18087 2009-12-01          50.40\n",
       "7  489441       18087 2009-12-01         344.34\n",
       "8  489442       13635 2009-12-01         382.37\n",
       "9  489443       14110 2009-12-01         285.06"
      ]
     },
     "execution_count": 30,
     "metadata": {},
     "output_type": "execute_result"
    }
   ],
   "source": [
    "# Visualizando lista de vendas completa\n",
    "# Invoice, Id_cliente, Data e Total_vendido\n",
    "vendas.head(10)"
   ]
  },
  {
   "cell_type": "code",
   "execution_count": 31,
   "id": "ab09dd75",
   "metadata": {
    "scrolled": true
   },
   "outputs": [
    {
     "data": {
      "text/plain": [
       "(44860, 4)"
      ]
     },
     "execution_count": 31,
     "metadata": {},
     "output_type": "execute_result"
    }
   ],
   "source": [
    "# Dimensões da tabela vendas\n",
    "vendas.shape"
   ]
  },
  {
   "cell_type": "markdown",
   "id": "26ca82da",
   "metadata": {},
   "source": [
    "### Tabela produtos"
   ]
  },
  {
   "cell_type": "code",
   "execution_count": 32,
   "id": "2741ab01",
   "metadata": {
    "scrolled": true
   },
   "outputs": [],
   "source": [
    "# Criando tabela Produto\n",
    "produtos = cria_tabela_produto(dados)"
   ]
  },
  {
   "cell_type": "code",
   "execution_count": 33,
   "id": "7e3ff0b6",
   "metadata": {
    "scrolled": true
   },
   "outputs": [
    {
     "data": {
      "text/html": [
       "<div>\n",
       "<style scoped>\n",
       "    .dataframe tbody tr th:only-of-type {\n",
       "        vertical-align: middle;\n",
       "    }\n",
       "\n",
       "    .dataframe tbody tr th {\n",
       "        vertical-align: top;\n",
       "    }\n",
       "\n",
       "    .dataframe thead th {\n",
       "        text-align: right;\n",
       "    }\n",
       "</style>\n",
       "<table border=\"1\" class=\"dataframe\">\n",
       "  <thead>\n",
       "    <tr style=\"text-align: right;\">\n",
       "      <th></th>\n",
       "      <th>Id_produto</th>\n",
       "      <th>Produto</th>\n",
       "      <th>Preço</th>\n",
       "    </tr>\n",
       "  </thead>\n",
       "  <tbody>\n",
       "    <tr>\n",
       "      <th>41</th>\n",
       "      <td>10002</td>\n",
       "      <td>INFLATABLE POLITICAL GLOBE</td>\n",
       "      <td>0.85</td>\n",
       "    </tr>\n",
       "    <tr>\n",
       "      <th>6339</th>\n",
       "      <td>10080</td>\n",
       "      <td>GROOVY CACTUS INFLATABLE</td>\n",
       "      <td>0.85</td>\n",
       "    </tr>\n",
       "    <tr>\n",
       "      <th>7218</th>\n",
       "      <td>10109</td>\n",
       "      <td>BENDY COLOUR PENCILS</td>\n",
       "      <td>0.42</td>\n",
       "    </tr>\n",
       "    <tr>\n",
       "      <th>2944</th>\n",
       "      <td>10120</td>\n",
       "      <td>DOGGY RUBBER</td>\n",
       "      <td>0.21</td>\n",
       "    </tr>\n",
       "    <tr>\n",
       "      <th>11727</th>\n",
       "      <td>10123C</td>\n",
       "      <td>HEARTS WRAPPING TAPE</td>\n",
       "      <td>0.65</td>\n",
       "    </tr>\n",
       "    <tr>\n",
       "      <th>273353</th>\n",
       "      <td>10123G</td>\n",
       "      <td>ARMY CAMO WRAPPING TAPE</td>\n",
       "      <td>0.65</td>\n",
       "    </tr>\n",
       "    <tr>\n",
       "      <th>130361</th>\n",
       "      <td>10124A</td>\n",
       "      <td>SPOTS ON RED BOOKCOVER TAPE</td>\n",
       "      <td>0.42</td>\n",
       "    </tr>\n",
       "    <tr>\n",
       "      <th>203252</th>\n",
       "      <td>10124G</td>\n",
       "      <td>ARMY CAMO BOOKCOVER TAPE</td>\n",
       "      <td>0.42</td>\n",
       "    </tr>\n",
       "    <tr>\n",
       "      <th>3106</th>\n",
       "      <td>10125</td>\n",
       "      <td>MINI FUNKY DESIGN TAPES</td>\n",
       "      <td>0.85</td>\n",
       "    </tr>\n",
       "    <tr>\n",
       "      <th>475</th>\n",
       "      <td>10133</td>\n",
       "      <td>COLOURING PENCILS BROWN TUBE</td>\n",
       "      <td>0.85</td>\n",
       "    </tr>\n",
       "  </tbody>\n",
       "</table>\n",
       "</div>"
      ],
      "text/plain": [
       "       Id_produto                       Produto  Preço\n",
       "41          10002   INFLATABLE POLITICAL GLOBE    0.85\n",
       "6339        10080      GROOVY CACTUS INFLATABLE   0.85\n",
       "7218        10109          BENDY COLOUR PENCILS   0.42\n",
       "2944        10120                  DOGGY RUBBER   0.21\n",
       "11727      10123C         HEARTS WRAPPING TAPE    0.65\n",
       "273353     10123G       ARMY CAMO WRAPPING TAPE   0.65\n",
       "130361     10124A   SPOTS ON RED BOOKCOVER TAPE   0.42\n",
       "203252     10124G      ARMY CAMO BOOKCOVER TAPE   0.42\n",
       "3106        10125       MINI FUNKY DESIGN TAPES   0.85\n",
       "475         10133  COLOURING PENCILS BROWN TUBE   0.85"
      ]
     },
     "execution_count": 33,
     "metadata": {},
     "output_type": "execute_result"
    }
   ],
   "source": [
    "# Visualizando tabela produtos\n",
    "# Id_produto, Produto, Preço\n",
    "produtos.head(10)"
   ]
  },
  {
   "cell_type": "code",
   "execution_count": 34,
   "id": "79b77ff7",
   "metadata": {
    "scrolled": true
   },
   "outputs": [
    {
     "data": {
      "text/plain": [
       "(4644, 3)"
      ]
     },
     "execution_count": 34,
     "metadata": {},
     "output_type": "execute_result"
    }
   ],
   "source": [
    "# Dimensões da tabela produtos\n",
    "produtos.shape"
   ]
  },
  {
   "cell_type": "markdown",
   "id": "11954f2c",
   "metadata": {},
   "source": [
    "### Tabela itens venda"
   ]
  },
  {
   "cell_type": "code",
   "execution_count": 35,
   "id": "932626c5",
   "metadata": {
    "scrolled": true
   },
   "outputs": [],
   "source": [
    "# Criando tabela Itens Vendidos\n",
    "itens_venda = cria_tabela_itens_venda(dados)"
   ]
  },
  {
   "cell_type": "code",
   "execution_count": 36,
   "id": "f96fdc25",
   "metadata": {
    "scrolled": true
   },
   "outputs": [
    {
     "data": {
      "text/html": [
       "<div>\n",
       "<style scoped>\n",
       "    .dataframe tbody tr th:only-of-type {\n",
       "        vertical-align: middle;\n",
       "    }\n",
       "\n",
       "    .dataframe tbody tr th {\n",
       "        vertical-align: top;\n",
       "    }\n",
       "\n",
       "    .dataframe thead th {\n",
       "        text-align: right;\n",
       "    }\n",
       "</style>\n",
       "<table border=\"1\" class=\"dataframe\">\n",
       "  <thead>\n",
       "    <tr style=\"text-align: right;\">\n",
       "      <th></th>\n",
       "      <th>Invoice</th>\n",
       "      <th>Id_produto</th>\n",
       "      <th>Quantidade</th>\n",
       "      <th>Preço</th>\n",
       "      <th>Total_vendido</th>\n",
       "    </tr>\n",
       "  </thead>\n",
       "  <tbody>\n",
       "    <tr>\n",
       "      <th>0</th>\n",
       "      <td>489434</td>\n",
       "      <td>21232</td>\n",
       "      <td>24</td>\n",
       "      <td>1.25</td>\n",
       "      <td>30.0</td>\n",
       "    </tr>\n",
       "    <tr>\n",
       "      <th>1</th>\n",
       "      <td>489434</td>\n",
       "      <td>21523</td>\n",
       "      <td>10</td>\n",
       "      <td>5.95</td>\n",
       "      <td>59.5</td>\n",
       "    </tr>\n",
       "    <tr>\n",
       "      <th>2</th>\n",
       "      <td>489434</td>\n",
       "      <td>21871</td>\n",
       "      <td>24</td>\n",
       "      <td>1.25</td>\n",
       "      <td>30.0</td>\n",
       "    </tr>\n",
       "    <tr>\n",
       "      <th>3</th>\n",
       "      <td>489434</td>\n",
       "      <td>22041</td>\n",
       "      <td>48</td>\n",
       "      <td>2.10</td>\n",
       "      <td>100.8</td>\n",
       "    </tr>\n",
       "    <tr>\n",
       "      <th>4</th>\n",
       "      <td>489434</td>\n",
       "      <td>22064</td>\n",
       "      <td>24</td>\n",
       "      <td>1.65</td>\n",
       "      <td>39.6</td>\n",
       "    </tr>\n",
       "    <tr>\n",
       "      <th>5</th>\n",
       "      <td>489434</td>\n",
       "      <td>79323P</td>\n",
       "      <td>12</td>\n",
       "      <td>6.75</td>\n",
       "      <td>81.0</td>\n",
       "    </tr>\n",
       "    <tr>\n",
       "      <th>6</th>\n",
       "      <td>489434</td>\n",
       "      <td>79323W</td>\n",
       "      <td>12</td>\n",
       "      <td>6.75</td>\n",
       "      <td>81.0</td>\n",
       "    </tr>\n",
       "    <tr>\n",
       "      <th>7</th>\n",
       "      <td>489434</td>\n",
       "      <td>85048</td>\n",
       "      <td>12</td>\n",
       "      <td>6.95</td>\n",
       "      <td>83.4</td>\n",
       "    </tr>\n",
       "    <tr>\n",
       "      <th>8</th>\n",
       "      <td>489435</td>\n",
       "      <td>22195</td>\n",
       "      <td>24</td>\n",
       "      <td>1.65</td>\n",
       "      <td>39.6</td>\n",
       "    </tr>\n",
       "    <tr>\n",
       "      <th>9</th>\n",
       "      <td>489435</td>\n",
       "      <td>22349</td>\n",
       "      <td>12</td>\n",
       "      <td>3.75</td>\n",
       "      <td>45.0</td>\n",
       "    </tr>\n",
       "  </tbody>\n",
       "</table>\n",
       "</div>"
      ],
      "text/plain": [
       "  Invoice Id_produto  Quantidade  Preço  Total_vendido\n",
       "0  489434      21232          24   1.25           30.0\n",
       "1  489434      21523          10   5.95           59.5\n",
       "2  489434      21871          24   1.25           30.0\n",
       "3  489434      22041          48   2.10          100.8\n",
       "4  489434      22064          24   1.65           39.6\n",
       "5  489434     79323P          12   6.75           81.0\n",
       "6  489434     79323W          12   6.75           81.0\n",
       "7  489434      85048          12   6.95           83.4\n",
       "8  489435      22195          24   1.65           39.6\n",
       "9  489435      22349          12   3.75           45.0"
      ]
     },
     "execution_count": 36,
     "metadata": {},
     "output_type": "execute_result"
    }
   ],
   "source": [
    "# Verificando tabela itens venda\n",
    "# Invoice, Id_produto, Quantidade, Preço, Total_vendido\n",
    "itens_venda.head(10)"
   ]
  },
  {
   "cell_type": "code",
   "execution_count": 37,
   "id": "d42a7874",
   "metadata": {
    "scrolled": true
   },
   "outputs": [
    {
     "data": {
      "text/plain": [
       "(787164, 5)"
      ]
     },
     "execution_count": 37,
     "metadata": {},
     "output_type": "execute_result"
    }
   ],
   "source": [
    "# Dimensões da tabela itens vendida\n",
    "itens_venda.shape"
   ]
  },
  {
   "cell_type": "markdown",
   "id": "1389618b",
   "metadata": {},
   "source": [
    "# Criando DB Relacional - PostgreSQL"
   ]
  },
  {
   "cell_type": "markdown",
   "id": "96c653f7",
   "metadata": {},
   "source": [
    "> Um banco de dados relacional é um tipo de sistema de gerenciamento de banco de dados (DBMS) que organiza e armazena dados em tabelas com estruturas bem definidas. Ele é chamado de \"relacional\" porque estabelece relações entre os dados armazenados em diferentes tabelas. Essas relações são definidas por meio de chaves primárias e estrangeiras, que permitem que os dados sejam relacionados e consultados de maneira eficiente."
   ]
  },
  {
   "cell_type": "markdown",
   "id": "e13fbdff",
   "metadata": {},
   "source": [
    "*Schema Banco de dados Relacional.*\n",
    "\n",
    "<img src='./schema_database_postgres/Schema-Relacional.png'>"
   ]
  },
  {
   "cell_type": "markdown",
   "id": "59d78a95",
   "metadata": {},
   "source": [
    "## Criando Database e Schema"
   ]
  },
  {
   "cell_type": "code",
   "execution_count": 38,
   "id": "33be05c9",
   "metadata": {
    "scrolled": false
   },
   "outputs": [
    {
     "name": "stdout",
     "output_type": "stream",
     "text": [
      "Banco de dados wgift criado!\n",
      "SCHEMA relacional criado!\n"
     ]
    }
   ],
   "source": [
    "# Variáveis de acesso\n",
    "acesso_postgres = ('localhost','postgres','postgres','123456')\n",
    "acesso_wgift = ('localhost','wgift','postgres','123456')\n",
    "schema_relacional = 'relacional'\n",
    "\n",
    "# Criando banco de dados\n",
    "cria_db(banco_dados=acesso_postgres, novo_banco_dados=acesso_wgift[1])\n",
    "\n",
    "# Criando schema\n",
    "cria_schema_db(banco_dados=acesso_wgift, novo_schema=schema_relacional)"
   ]
  },
  {
   "cell_type": "markdown",
   "id": "f2d3d237",
   "metadata": {},
   "source": [
    "## Criando Tabelas e Inserindo Dados"
   ]
  },
  {
   "cell_type": "markdown",
   "id": "e4b2224f",
   "metadata": {},
   "source": [
    "### Criando Tabela Relacional Clientes"
   ]
  },
  {
   "cell_type": "code",
   "execution_count": 39,
   "id": "942c68c2",
   "metadata": {
    "scrolled": true
   },
   "outputs": [],
   "source": [
    "# Variável do nome da tabela\n",
    "tabela_clientes = 'clientes'\n",
    "\n",
    "# Variável com as colunas do DataFrame\n",
    "colunas_clientes_relacional = ['Id_cliente', 'Cliente', 'Email', 'Localizacao']\n",
    "\n",
    "# Query de criação de uma tabela\n",
    "query_tabela_clientes_relacional = \"\"\"\n",
    "            CREATE TABLE relacional.clientes(\n",
    "            Id_cliente  INT PRIMARY KEY NOT NULL,\n",
    "            Cliente     VARCHAR(300) NOT NULL,\n",
    "            Email       VARCHAR(300) NOT NULL,\n",
    "            Localizacao VARCHAR(255) NOT NULL);\"\"\"\n",
    "\n",
    "# Query para inserir dados na tabela\n",
    "query_inseri_dados_clientes_relacional = \"\"\"\n",
    "                INSERT INTO relacional.clientes (id_cliente, cliente, email, localizacao)\n",
    "                VALUES (%s, %s, %s, %s);\"\"\""
   ]
  },
  {
   "cell_type": "code",
   "execution_count": 40,
   "id": "b0aeaaf5",
   "metadata": {
    "scrolled": false
   },
   "outputs": [
    {
     "name": "stdout",
     "output_type": "stream",
     "text": [
      "Tabela clientes criada!\n"
     ]
    },
    {
     "data": {
      "text/plain": [
       "(   Id_cliente                     Cliente                             Email  \\\n",
       " 0       12346    Johnson, Olson and Smith    johnsonolsonandsmith@email.com   \n",
       " 1       12347                    Li-Colon                li-colon@email.com   \n",
       " 2       12348  Cochran, Johnson and Henry  cochranjohnsonandhenry@email.com   \n",
       " 3       12349                  Wright Ltd               wrightltd@email.com   \n",
       " 4       12350             Williams-Dalton         williams-dalton@email.com   \n",
       " 5       12351   Kelly, Fisher and Serrano   kellyfisherandserrano@email.com   \n",
       " 6       12352             Bryant-Jennings         bryant-jennings@email.com   \n",
       " 7       12353      Cox, Bryant and Dalton      coxbryantanddalton@email.com   \n",
       " 8       12354                  Montes PLC               montesplc@email.com   \n",
       " 9       12355              Williams-Smith          williams-smith@email.com   \n",
       " \n",
       "       Localizacao  \n",
       " 0  United Kingdom  \n",
       " 1         Iceland  \n",
       " 2         Finland  \n",
       " 3           Italy  \n",
       " 4          Norway  \n",
       " 5     Unspecified  \n",
       " 6          Norway  \n",
       " 7         Bahrain  \n",
       " 8           Spain  \n",
       " 9         Bahrain  ,\n",
       " (5940, 4))"
      ]
     },
     "execution_count": 40,
     "metadata": {},
     "output_type": "execute_result"
    }
   ],
   "source": [
    "# Executando função que cria tabela em um banco de dados e popula tabela com DataFrame\n",
    "cria_tabelas_banco_dados_relacional(banco_dados=acesso_wgift, schema=schema_relacional, nova_tabela=tabela_clientes,\n",
    "                                    colunas_tabela=colunas_clientes_relacional, tabela_dados=clientes,\n",
    "                                    query_cria_tabela=query_tabela_clientes_relacional,\n",
    "                                    query_inseri_dados=query_inseri_dados_clientes_relacional, numero_linhas=10)"
   ]
  },
  {
   "cell_type": "markdown",
   "id": "31104f65",
   "metadata": {},
   "source": [
    "### Criando Tabela Relacional Vendas"
   ]
  },
  {
   "cell_type": "code",
   "execution_count": 41,
   "id": "8fe9e126",
   "metadata": {},
   "outputs": [],
   "source": [
    "# Variável do nome da tabela\n",
    "tabela_vendas = 'vendas'\n",
    "\n",
    "# Variável com as colunas do DataFrame\n",
    "colunas_vendas_relacional = ['Invoice', 'Id_cliente', 'Data', 'Total_vendido']\n",
    "\n",
    "# Query de criação de uma tabela\n",
    "query_tabela_vendas_relacional = \"\"\"\n",
    "            CREATE TABLE relacional.vendas(\n",
    "            Invoice       VARCHAR(15) PRIMARY KEY NOT NULL,\n",
    "            Id_cliente    INT references relacional.clientes (id_cliente) ON DELETE RESTRICT,\n",
    "            Data          DATE NOT NULL,\n",
    "            Total_vendido DECIMAL(10,2) NOT NULL);\"\"\"\n",
    "\n",
    "# Query para inserir dados na tabela\n",
    "query_inseri_dados_vendas_relacional = \"\"\"\n",
    "                INSERT INTO relacional.vendas (invoice, id_cliente, data, total_vendido)\n",
    "                VALUES (%s, %s, %s, %s);\"\"\""
   ]
  },
  {
   "cell_type": "code",
   "execution_count": 42,
   "id": "7d1fafcb",
   "metadata": {
    "scrolled": true
   },
   "outputs": [
    {
     "name": "stdout",
     "output_type": "stream",
     "text": [
      "Tabela vendas criada!\n"
     ]
    },
    {
     "data": {
      "text/plain": [
       "(  Invoice  Id_cliente        Data Total_vendido\n",
       " 0  489434       13085  2009-12-01        505.30\n",
       " 1  489435       13085  2009-12-01        145.80\n",
       " 2  489436       13078  2009-12-01        630.33\n",
       " 3  489437       15362  2009-12-01        310.75\n",
       " 4  489438       18102  2009-12-01       2286.24\n",
       " 5  489439       12682  2009-12-01        426.30\n",
       " 6  489440       18087  2009-12-01         50.40\n",
       " 7  489441       18087  2009-12-01        344.34\n",
       " 8  489442       13635  2009-12-01        382.37\n",
       " 9  489443       14110  2009-12-01        285.06,\n",
       " (44860, 4))"
      ]
     },
     "execution_count": 42,
     "metadata": {},
     "output_type": "execute_result"
    }
   ],
   "source": [
    "# Executando função que cria tabela em um banco de dados e popula tabela com DataFrame\n",
    "cria_tabelas_banco_dados_relacional(banco_dados=acesso_wgift, schema=schema_relacional, nova_tabela=tabela_vendas,\n",
    "                        colunas_tabela=colunas_vendas_relacional, tabela_dados=vendas,\n",
    "                        query_cria_tabela=query_tabela_vendas_relacional,\n",
    "                        query_inseri_dados=query_inseri_dados_vendas_relacional, numero_linhas=10)"
   ]
  },
  {
   "cell_type": "markdown",
   "id": "0ec28c54",
   "metadata": {},
   "source": [
    "### Criando Tabela Relacional Produtos"
   ]
  },
  {
   "cell_type": "code",
   "execution_count": 43,
   "id": "fe055d40",
   "metadata": {
    "scrolled": true
   },
   "outputs": [],
   "source": [
    "# Variável do nome da tabela\n",
    "tabela_produtos = 'produtos'\n",
    "\n",
    "# Variável com as colunas do DataFrame\n",
    "colunas_produtos_relacional = ['id_produto', 'produto', 'preco']\n",
    "\n",
    "# Query de criação de uma tabela\n",
    "query_tabela_produtos_relacional = \"\"\"\n",
    "            CREATE TABLE relacional.produtos(\n",
    "            id_produto VARCHAR(15) PRIMARY KEY NOT NULL,\n",
    "            produto    VARCHAR(255) NOT NULL,\n",
    "            preco      DECIMAL(10,2) NOT NULL);\"\"\"\n",
    "\n",
    "# Query para inserir dados na tabela\n",
    "query_inseri_dados_produtos_relacional = \"\"\"\n",
    "                INSERT INTO relacional.produtos (id_produto, produto, preco)\n",
    "                VALUES (%s, %s, %s);\"\"\""
   ]
  },
  {
   "cell_type": "code",
   "execution_count": 44,
   "id": "b36e3dee",
   "metadata": {},
   "outputs": [
    {
     "name": "stdout",
     "output_type": "stream",
     "text": [
      "Tabela produtos criada!\n"
     ]
    },
    {
     "data": {
      "text/plain": [
       "(  id_produto                       produto preco\n",
       " 0      10002   INFLATABLE POLITICAL GLOBE   0.85\n",
       " 1      10080      GROOVY CACTUS INFLATABLE  0.85\n",
       " 2      10109          BENDY COLOUR PENCILS  0.42\n",
       " 3      10120                  DOGGY RUBBER  0.21\n",
       " 4     10123C         HEARTS WRAPPING TAPE   0.65\n",
       " 5     10123G       ARMY CAMO WRAPPING TAPE  0.65\n",
       " 6     10124A   SPOTS ON RED BOOKCOVER TAPE  0.42\n",
       " 7     10124G      ARMY CAMO BOOKCOVER TAPE  0.42\n",
       " 8      10125       MINI FUNKY DESIGN TAPES  0.85\n",
       " 9      10133  COLOURING PENCILS BROWN TUBE  0.85,\n",
       " (4644, 3))"
      ]
     },
     "execution_count": 44,
     "metadata": {},
     "output_type": "execute_result"
    }
   ],
   "source": [
    "# Executando função que cria tabela em um banco de dados e popula tabela com DataFrame\n",
    "cria_tabelas_banco_dados_relacional(banco_dados=acesso_wgift, schema=schema_relacional, nova_tabela=tabela_produtos,\n",
    "                                    colunas_tabela=colunas_produtos_relacional, tabela_dados=produtos,\n",
    "                                    query_cria_tabela=query_tabela_produtos_relacional,\n",
    "                                    query_inseri_dados=query_inseri_dados_produtos_relacional, numero_linhas=10)"
   ]
  },
  {
   "cell_type": "markdown",
   "id": "674e1802",
   "metadata": {},
   "source": [
    "### Criando Tabela Relacional Itens Venda"
   ]
  },
  {
   "cell_type": "code",
   "execution_count": 45,
   "id": "7adea989",
   "metadata": {
    "scrolled": true
   },
   "outputs": [],
   "source": [
    "# Variável do nome da tabela\n",
    "tabela_itens_venda = 'itens_venda'\n",
    "\n",
    "# Variável com as colunas do DataFrame\n",
    "colunas_itens_venda_relacional = ['invoice', 'id_produto', 'quantidade', 'preco', 'total_vendido']\n",
    "\n",
    "# Query de criação de uma tabela\n",
    "query_tabela_itens_venda_relacional = \"\"\"\n",
    "            CREATE TABLE relacional.itens_venda(\n",
    "            invoice        VARCHAR(15) REFERENCES relacional.vendas ON DELETE CASCADE NOT NULL,\n",
    "            id_produto     VARCHAR(15) REFERENCES relacional.produtos ON DELETE RESTRICT NOT NULL,\n",
    "            quantidade     INT NOT NULL,\n",
    "            preco          DECIMAL(10,2) NOT NULL,\n",
    "            total_vendido  DECIMAL(10,2) NOT NULL,\n",
    "            PRIMARY KEY (invoice, id_produto));\"\"\"\n",
    "\n",
    "# Query para inserir dados na tabela\n",
    "query_inseri_dados_itens_venda_relacional = \"\"\"\n",
    "                INSERT INTO relacional.itens_venda (invoice, id_produto, quantidade, preco, total_vendido)\n",
    "                VALUES (%s, %s, %s, %s, %s);\"\"\""
   ]
  },
  {
   "cell_type": "code",
   "execution_count": 46,
   "id": "60e8c401",
   "metadata": {},
   "outputs": [
    {
     "name": "stdout",
     "output_type": "stream",
     "text": [
      "Tabela itens_venda criada!\n"
     ]
    },
    {
     "data": {
      "text/plain": [
       "(  invoice id_produto  quantidade preco total_vendido\n",
       " 0  489434      21232          24  1.25         30.00\n",
       " 1  489434      21523          10  5.95         59.50\n",
       " 2  489434      21871          24  1.25         30.00\n",
       " 3  489434      22041          48  2.10        100.80\n",
       " 4  489434      22064          24  1.65         39.60\n",
       " 5  489434     79323P          12  6.75         81.00\n",
       " 6  489434     79323W          12  6.75         81.00\n",
       " 7  489434      85048          12  6.95         83.40\n",
       " 8  489435      22195          24  1.65         39.60\n",
       " 9  489435      22349          12  3.75         45.00,\n",
       " (787164, 5))"
      ]
     },
     "execution_count": 46,
     "metadata": {},
     "output_type": "execute_result"
    }
   ],
   "source": [
    "# Executando função que cria tabela em um banco de dados e popula tabela com DataFrame\n",
    "cria_tabelas_banco_dados_relacional(banco_dados=acesso_wgift, schema=schema_relacional, nova_tabela=tabela_itens_venda,\n",
    "                                    colunas_tabela=colunas_itens_venda_relacional, tabela_dados=itens_venda,\n",
    "                                    query_cria_tabela=query_tabela_itens_venda_relacional,\n",
    "                                    query_inseri_dados=query_inseri_dados_itens_venda_relacional, numero_linhas=10)"
   ]
  },
  {
   "cell_type": "markdown",
   "id": "6f9cfbea",
   "metadata": {},
   "source": [
    "# Criando Data Wherehouse - PostgreSQL"
   ]
  },
  {
   "cell_type": "markdown",
   "id": "619ef605",
   "metadata": {},
   "source": [
    "> Um banco de dados dimensional, é um tipo de sistema de gerenciamento de banco de dados projetado especificamente para suportar a análise e a geração de relatórios de dados de maneira eficiente. Esses bancos de dados são frequentemente usados em ambientes de data warehousing e business intelligence (BI) para atender às necessidades de tomada de decisões em organizações."
   ]
  },
  {
   "cell_type": "markdown",
   "id": "193d50e2",
   "metadata": {},
   "source": [
    "*Schema Banco de dados Dimensional.*\n",
    "\n",
    "<img src='./schema_database_postgres/Schema-Dimensional.png'>"
   ]
  },
  {
   "cell_type": "markdown",
   "id": "6483fca5",
   "metadata": {},
   "source": [
    "## Criando Schema Dimensional"
   ]
  },
  {
   "cell_type": "code",
   "execution_count": 47,
   "id": "68cebbea",
   "metadata": {},
   "outputs": [
    {
     "name": "stdout",
     "output_type": "stream",
     "text": [
      "SCHEMA dimensional criado!\n"
     ]
    }
   ],
   "source": [
    "# Variáveis de acesso\n",
    "acesso_wgift = ('localhost','wgift','postgres','123456')\n",
    "schema_dimensional = 'dimensional'\n",
    "\n",
    "# Criando schema\n",
    "cria_schema_db(banco_dados=acesso_wgift, novo_schema=schema_dimensional)"
   ]
  },
  {
   "cell_type": "markdown",
   "id": "7a5dc6f4",
   "metadata": {},
   "source": [
    "## Criando Tabelas e Inserindo Dados"
   ]
  },
  {
   "cell_type": "markdown",
   "id": "9ac58395",
   "metadata": {},
   "source": [
    "### Criando Tabela Dimensional Clientes"
   ]
  },
  {
   "cell_type": "code",
   "execution_count": 48,
   "id": "32b1c0b3",
   "metadata": {
    "scrolled": true
   },
   "outputs": [],
   "source": [
    "# Variável do nome da tabela\n",
    "tabela_clientes = 'dclientes'\n",
    "\n",
    "# Variável com as colunas do DataFrame\n",
    "colunas_clientes_dimensional = ['Id_cliente', 'Cliente', 'Email', 'Localizacao']\n",
    "\n",
    "# Query de criação de uma tabela\n",
    "query_tabela_clientes_dimensional = \"\"\"\n",
    "            CREATE TABLE dimensional.dclientes(\n",
    "            Id_cliente  INT PRIMARY KEY NOT NULL,\n",
    "            Cliente     VARCHAR(300) NOT NULL,\n",
    "            Email       VARCHAR(300) NOT NULL,\n",
    "            Localizacao VARCHAR(255) NOT NULL);\"\"\"\n",
    "\n",
    "# Query para inserir dados na tabela\n",
    "query_inseri_dados_clientes_dimensional = \"\"\"\n",
    "                INSERT INTO dimensional.dclientes (id_cliente, cliente, email, localizacao)\n",
    "                SELECT id_cliente, cliente, email, localizacao\n",
    "                FROM relacional.clientes;\"\"\""
   ]
  },
  {
   "cell_type": "code",
   "execution_count": 49,
   "id": "45b3c069",
   "metadata": {},
   "outputs": [
    {
     "name": "stdout",
     "output_type": "stream",
     "text": [
      "Tabela dclientes criada!\n"
     ]
    },
    {
     "data": {
      "text/plain": [
       "(   Id_cliente                     Cliente                             Email  \\\n",
       " 0       12346    Johnson, Olson and Smith    johnsonolsonandsmith@email.com   \n",
       " 1       12347                    Li-Colon                li-colon@email.com   \n",
       " 2       12348  Cochran, Johnson and Henry  cochranjohnsonandhenry@email.com   \n",
       " 3       12349                  Wright Ltd               wrightltd@email.com   \n",
       " 4       12350             Williams-Dalton         williams-dalton@email.com   \n",
       " 5       12351   Kelly, Fisher and Serrano   kellyfisherandserrano@email.com   \n",
       " 6       12352             Bryant-Jennings         bryant-jennings@email.com   \n",
       " 7       12353      Cox, Bryant and Dalton      coxbryantanddalton@email.com   \n",
       " 8       12354                  Montes PLC               montesplc@email.com   \n",
       " 9       12355              Williams-Smith          williams-smith@email.com   \n",
       " \n",
       "       Localizacao  \n",
       " 0  United Kingdom  \n",
       " 1         Iceland  \n",
       " 2         Finland  \n",
       " 3           Italy  \n",
       " 4          Norway  \n",
       " 5     Unspecified  \n",
       " 6          Norway  \n",
       " 7         Bahrain  \n",
       " 8           Spain  \n",
       " 9         Bahrain  ,\n",
       " (5940, 4))"
      ]
     },
     "execution_count": 49,
     "metadata": {},
     "output_type": "execute_result"
    }
   ],
   "source": [
    "# Executando função que cria tabela em um banco de dados e popula tabela\n",
    "cria_tabelas_banco_dados_dimensional(banco_dados=acesso_wgift, schema=schema_dimensional, nova_tabela=tabela_clientes,\n",
    "                        colunas_tabela=colunas_clientes_dimensional,\n",
    "                        query_cria_tabela=query_tabela_clientes_dimensional,\n",
    "                        query_inseri_dados=query_inseri_dados_clientes_dimensional, numero_linhas=10)"
   ]
  },
  {
   "cell_type": "markdown",
   "id": "fac30670",
   "metadata": {},
   "source": [
    "### Criando Tabela Dimensional Produtos"
   ]
  },
  {
   "cell_type": "code",
   "execution_count": 50,
   "id": "077fab35",
   "metadata": {
    "scrolled": true
   },
   "outputs": [],
   "source": [
    "# Variável do nome da tabela\n",
    "tabela_produtos = 'dprodutos'\n",
    "\n",
    "# Variável com as colunas do DataFrame\n",
    "colunas_produtos_dimensional = ['id_produto', 'produto', 'preco']\n",
    "\n",
    "# Query de criação de uma tabela\n",
    "query_tabela_produtos_dimensional = \"\"\"\n",
    "            CREATE TABLE dimensional.dprodutos(\n",
    "            id_produto VARCHAR(15) PRIMARY KEY NOT NULL,\n",
    "            produto    VARCHAR(255) NOT NULL,\n",
    "            preco      DECIMAL(10,2) NOT NULL);\"\"\"\n",
    "\n",
    "# Query para inserir dados na tabela\n",
    "query_inseri_dados_produtos_dimensional = \"\"\"\n",
    "                INSERT INTO dimensional.dprodutos (id_produto, produto, preco)\n",
    "                SELECT id_produto, produto, preco\n",
    "                FROM relacional.produtos;\"\"\""
   ]
  },
  {
   "cell_type": "code",
   "execution_count": 51,
   "id": "894dfc1e",
   "metadata": {},
   "outputs": [
    {
     "name": "stdout",
     "output_type": "stream",
     "text": [
      "Tabela dprodutos criada!\n"
     ]
    },
    {
     "data": {
      "text/plain": [
       "(  id_produto                       produto preco\n",
       " 0      10002   INFLATABLE POLITICAL GLOBE   0.85\n",
       " 1      10080      GROOVY CACTUS INFLATABLE  0.85\n",
       " 2      10109          BENDY COLOUR PENCILS  0.42\n",
       " 3      10120                  DOGGY RUBBER  0.21\n",
       " 4     10123C         HEARTS WRAPPING TAPE   0.65\n",
       " 5     10123G       ARMY CAMO WRAPPING TAPE  0.65\n",
       " 6     10124A   SPOTS ON RED BOOKCOVER TAPE  0.42\n",
       " 7     10124G      ARMY CAMO BOOKCOVER TAPE  0.42\n",
       " 8      10125       MINI FUNKY DESIGN TAPES  0.85\n",
       " 9      10133  COLOURING PENCILS BROWN TUBE  0.85,\n",
       " (4644, 3))"
      ]
     },
     "execution_count": 51,
     "metadata": {},
     "output_type": "execute_result"
    }
   ],
   "source": [
    "# Executando função que cria tabela em um banco de dados e popula tabela\n",
    "cria_tabelas_banco_dados_dimensional(banco_dados=acesso_wgift, schema=schema_dimensional, nova_tabela=tabela_produtos,\n",
    "                                     colunas_tabela=colunas_produtos_dimensional,\n",
    "                                     query_cria_tabela=query_tabela_produtos_dimensional,\n",
    "                                     query_inseri_dados=query_inseri_dados_produtos_dimensional, numero_linhas=10)"
   ]
  },
  {
   "cell_type": "markdown",
   "id": "6855052f",
   "metadata": {},
   "source": [
    "### Criando Tabela Dimensional Calendário"
   ]
  },
  {
   "cell_type": "code",
   "execution_count": 52,
   "id": "2de3e5ae",
   "metadata": {
    "scrolled": true
   },
   "outputs": [],
   "source": [
    "# Variável do nome da tabela\n",
    "tabela_calendario = 'dcalendario'\n",
    "\n",
    "# Variável com as colunas do DataFrame\n",
    "colunas_calendario_dimensional = ['data', 'dia', 'mes', 'ano', 'trimestre']\n",
    "\n",
    "# Query de criação de uma tabela\n",
    "query_tabela_calendario_dimensional = \"\"\"\n",
    "                CREATE TABLE dimensional.dcalendario(\n",
    "                data      DATE DEFAULT current_date PRIMARY KEY NOT NULL,\n",
    "                dia       INT NOT NULL,\n",
    "                mes       INT NOT NULL,\n",
    "                ano       INT NOT NULL,\n",
    "                trimestre INT NOT NULL);\"\"\"\n",
    "\n",
    "# Query para inserir dados na tabela\n",
    "query_inseri_dados_calendario_dimensional = \"\"\"\n",
    "                INSERT INTO dimensional.dcalendario (data, dia, mes, ano, trimestre)\n",
    "                SELECT\n",
    "                    date_range.data,\n",
    "                    EXTRACT(DAY FROM date_range.data),\n",
    "                    EXTRACT(MONTH FROM date_range.data),\n",
    "                    EXTRACT(YEAR FROM date_range.data),\n",
    "                    CEIL(EXTRACT(MONTH FROM date_range.data) / 3) :: INT\n",
    "                FROM (\n",
    "                    SELECT current_date - num * INTERVAL '1 day' AS data\n",
    "                    FROM generate_series(0, (current_date - '2009-01-01'::DATE)::INT, 1) AS num\n",
    "                ) AS date_range;\"\"\""
   ]
  },
  {
   "cell_type": "code",
   "execution_count": 53,
   "id": "625a624c",
   "metadata": {},
   "outputs": [
    {
     "name": "stdout",
     "output_type": "stream",
     "text": [
      "Tabela dcalendario criada!\n"
     ]
    },
    {
     "data": {
      "text/plain": [
       "(         data  dia  mes   ano  trimestre\n",
       " 0  2023-11-03    3   11  2023          4\n",
       " 1  2023-11-02    2   11  2023          4\n",
       " 2  2023-11-01    1   11  2023          4\n",
       " 3  2023-10-31   31   10  2023          4\n",
       " 4  2023-10-30   30   10  2023          4\n",
       " 5  2023-10-29   29   10  2023          4\n",
       " 6  2023-10-28   28   10  2023          4\n",
       " 7  2023-10-27   27   10  2023          4\n",
       " 8  2023-10-26   26   10  2023          4\n",
       " 9  2023-10-25   25   10  2023          4,\n",
       " (5420, 5))"
      ]
     },
     "execution_count": 53,
     "metadata": {},
     "output_type": "execute_result"
    }
   ],
   "source": [
    "# Executando função que cria tabela em um banco de dados e popula tabela\n",
    "cria_tabelas_banco_dados_dimensional(banco_dados=acesso_wgift, schema=schema_dimensional,nova_tabela=tabela_calendario,\n",
    "                                     colunas_tabela=colunas_calendario_dimensional,\n",
    "                                     query_cria_tabela=query_tabela_calendario_dimensional,\n",
    "                                     query_inseri_dados=query_inseri_dados_calendario_dimensional, numero_linhas=10)"
   ]
  },
  {
   "cell_type": "markdown",
   "id": "636cae05",
   "metadata": {},
   "source": [
    "### Criando Tabela Fato Vendas"
   ]
  },
  {
   "cell_type": "code",
   "execution_count": 54,
   "id": "135cc94d",
   "metadata": {},
   "outputs": [],
   "source": [
    "# Variável do nome da tabela\n",
    "tabela_fato_vendas = 'fvendas'\n",
    "\n",
    "# Variável com as colunas do DataFrame\n",
    "colunas_vendas_dimensional = ['id_vendas', 'invoice', 'id_cliente', 'id_produto', 'data',\n",
    "                              'quantidade', 'preco', 'total_vendido']\n",
    "\n",
    "# Query de criação de uma tabela\n",
    "query_tabela_vendas_dimensional = \"\"\"\n",
    "                CREATE TABLE dimensional.fvendas(\n",
    "                    id_vendas SERIAL PRIMARY KEY,\n",
    "                    invoice VARCHAR(15) NOT NULL,\n",
    "                    id_cliente INT REFERENCES dimensional.dclientes ON DELETE RESTRICT NOT NULL,\n",
    "                    id_produto VARCHAR(15) REFERENCES dimensional.dprodutos ON DELETE RESTRICT NOT NULL,\n",
    "                    data DATE REFERENCES dimensional.dcalendario ON DELETE RESTRICT NOT NULL,\n",
    "                    quantidade INT NOT NULL,\n",
    "                    preco DECIMAL(10, 2) NOT NULL,\n",
    "                    total_vendido DECIMAL(10, 2) NOT NULL\n",
    "                );\"\"\"\n",
    "\n",
    "# Query para inserir dados na tabela\n",
    "query_inseri_dados_vendas_dimensional = \"\"\"\n",
    "                    INSERT INTO dimensional.fvendas \n",
    "                    (invoice, id_cliente, id_produto, data, quantidade, preco, total_vendido)\n",
    "                    SELECT invoice, id_cliente, id_produto, data, quantidade, preco, total_vendido\n",
    "                    FROM(\n",
    "                        SELECT\n",
    "                            i.invoice,\n",
    "                            c.id_cliente,\n",
    "                            i.id_produto,\n",
    "                            v.data,\n",
    "                            i.quantidade,\n",
    "                            i.preco,\n",
    "                            i.total_vendido\n",
    "                        FROM relacional.vendas v\n",
    "                        INNER JOIN relacional.itens_venda i ON i.invoice = v.invoice\n",
    "                        INNER JOIN relacional.clientes c ON c.id_cliente = v.id_cliente) AS subconsulta;\"\"\""
   ]
  },
  {
   "cell_type": "code",
   "execution_count": 55,
   "id": "02845148",
   "metadata": {},
   "outputs": [
    {
     "name": "stdout",
     "output_type": "stream",
     "text": [
      "Tabela fvendas criada!\n"
     ]
    },
    {
     "data": {
      "text/plain": [
       "(   id_vendas invoice  id_cliente id_produto        data  quantidade preco  \\\n",
       " 0          1  489434       13085      21232  2009-12-01          24  1.25   \n",
       " 1          2  489434       13085      21523  2009-12-01          10  5.95   \n",
       " 2          3  489434       13085      21871  2009-12-01          24  1.25   \n",
       " 3          4  489434       13085      22041  2009-12-01          48  2.10   \n",
       " 4          5  489434       13085      22064  2009-12-01          24  1.65   \n",
       " 5          6  489434       13085     79323P  2009-12-01          12  6.75   \n",
       " 6          7  489434       13085     79323W  2009-12-01          12  6.75   \n",
       " 7          8  489434       13085      85048  2009-12-01          12  6.95   \n",
       " 8          9  489435       13085      22195  2009-12-01          24  1.65   \n",
       " 9         10  489435       13085      22349  2009-12-01          12  3.75   \n",
       " \n",
       "   total_vendido  \n",
       " 0         30.00  \n",
       " 1         59.50  \n",
       " 2         30.00  \n",
       " 3        100.80  \n",
       " 4         39.60  \n",
       " 5         81.00  \n",
       " 6         81.00  \n",
       " 7         83.40  \n",
       " 8         39.60  \n",
       " 9         45.00  ,\n",
       " (787164, 8))"
      ]
     },
     "execution_count": 55,
     "metadata": {},
     "output_type": "execute_result"
    }
   ],
   "source": [
    "# Executando função que cria tabela em um banco de dados e popula tabela\n",
    "cria_tabelas_banco_dados_dimensional(banco_dados=acesso_wgift, schema=schema_dimensional,\n",
    "                                     nova_tabela=tabela_fato_vendas,\n",
    "                                     colunas_tabela=colunas_vendas_dimensional,\n",
    "                                     query_cria_tabela=query_tabela_vendas_dimensional,\n",
    "                                     query_inseri_dados=query_inseri_dados_vendas_dimensional, numero_linhas=10)"
   ]
  },
  {
   "cell_type": "markdown",
   "id": "3b5b9ee9",
   "metadata": {},
   "source": [
    "# Consultas SQL"
   ]
  },
  {
   "cell_type": "markdown",
   "id": "cb774f95",
   "metadata": {},
   "source": [
    "- **Hipóteses de análise levantadas**:\n",
    "\n",
    "    1. Quantidade de vendas canceladas.\n",
    "    2. O faturamento total.\n",
    "    3. Total faturado nos anos 2009, 2010 e 2011.\n",
    "    4. Quantidade Total de produtos vendidos.\n",
    "    5. Os 10 paises com mais clientes fora do Reino Unido.\n",
    "    6. Os 10 maiores clientes.\n",
    "    7. Os 10 produtos mais vendidos.\n",
    "    8. As 10 maiores notas emitidas.\n",
    "    9. Os 10 paises com mais vendas."
   ]
  },
  {
   "cell_type": "markdown",
   "id": "2760414b",
   "metadata": {},
   "source": [
    "**1. Quantidade de vendas canceladas.**"
   ]
  },
  {
   "cell_type": "code",
   "execution_count": 330,
   "id": "169ed2aa",
   "metadata": {},
   "outputs": [],
   "source": [
    "# Consulta SQL\n",
    "consulta = \"\"\"\n",
    "            SELECT COUNT(invoice)\n",
    "            FROM dimensional.fvendas\n",
    "            WHERE invoice LIKE 'C%';\"\"\""
   ]
  },
  {
   "cell_type": "code",
   "execution_count": 332,
   "id": "9a0a0ab9",
   "metadata": {},
   "outputs": [
    {
     "name": "stdout",
     "output_type": "stream",
     "text": [
      "Quantidade de Vendas Canceladas no período: 18,264.\n"
     ]
    }
   ],
   "source": [
    "vendas_canceladas = consulta_sql(banco_dados=acesso_wgift, query=consulta, colunas=[''])\n",
    "print(f'Quantidade de Vendas Canceladas no período: {vendas_canceladas.iloc[0,0]:,.0f}.')"
   ]
  },
  {
   "cell_type": "markdown",
   "id": "1b1ca38e",
   "metadata": {},
   "source": [
    "**2. O faturamento total.**"
   ]
  },
  {
   "cell_type": "code",
   "execution_count": 328,
   "id": "6e2234ec",
   "metadata": {},
   "outputs": [],
   "source": [
    "# Consulta SQL\n",
    "consulta = \"\"\"\n",
    "            SELECT SUM(total_vendido) AS Faturamento_total\n",
    "            FROM dimensional.fvendas;\"\"\""
   ]
  },
  {
   "cell_type": "code",
   "execution_count": 329,
   "id": "5d1767d5",
   "metadata": {},
   "outputs": [
    {
     "name": "stdout",
     "output_type": "stream",
     "text": [
      "O Faturamento total do período: 17,742,969.76.\n"
     ]
    }
   ],
   "source": [
    "fat_total = consulta_sql(banco_dados=acesso_wgift, query=consulta, colunas=[''])\n",
    "print(f'O Faturamento total do período: {fat_total.iloc[0,0]:,.2f}.')"
   ]
  },
  {
   "cell_type": "markdown",
   "id": "fd6fc7bc",
   "metadata": {},
   "source": [
    "**3. Total faturado nos anos 2009, 2010 e 2011.**"
   ]
  },
  {
   "cell_type": "code",
   "execution_count": 172,
   "id": "7eaa5617",
   "metadata": {},
   "outputs": [],
   "source": [
    "# Dados de colunas\n",
    "colunas = ['2009', '2010', '2011']\n",
    "\n",
    "# Consulta SQL\n",
    "consulta = \"\"\"\n",
    "SELECT\n",
    "    (SELECT SUM(total_vendido) \n",
    "     FROM dimensional.fvendas\n",
    "     WHERE data >= '2009-01-01' AND data <= '2009-12-31'),\n",
    "    (SELECT SUM(total_vendido) \n",
    "     FROM dimensional.fvendas\n",
    "     WHERE data >= '2010-01-01' AND data <= '2010-12-31'),\n",
    "    (SELECT SUM(total_vendido)\n",
    "     FROM dimensional.fvendas\n",
    "     WHERE data >= '2011-01-01' AND data <= '2011-12-31');\"\"\""
   ]
  },
  {
   "cell_type": "code",
   "execution_count": 173,
   "id": "64eb5590",
   "metadata": {},
   "outputs": [
    {
     "data": {
      "image/png": "[encoded data removed]",
      "text/plain": [
       "<Figure size 800x800 with 1 Axes>"
      ]
     },
     "metadata": {},
     "output_type": "display_data"
    }
   ],
   "source": [
    "consulta_fat = consulta_sql(banco_dados=acesso_wgift, query=consulta, colunas=colunas)\n",
    "consulta_fat = consulta_fat.T.reset_index()\n",
    "consulta_fat = consulta_fat.rename(columns={'index':'Ano',0:'Faturamento'})\n",
    "grafico_pizza(dados=consulta_fat)"
   ]
  },
  {
   "cell_type": "markdown",
   "id": "7b02b03f",
   "metadata": {},
   "source": [
    "**4. Quantidade Total de produtos vendidos.**"
   ]
  },
  {
   "cell_type": "code",
   "execution_count": 319,
   "id": "ae2c43b8",
   "metadata": {},
   "outputs": [],
   "source": [
    "# Consulta SQL\n",
    "consulta = \"\"\"\n",
    "            SELECT SUM(quantidade)\n",
    "            FROM dimensional.fvendas;\"\"\""
   ]
  },
  {
   "cell_type": "code",
   "execution_count": 327,
   "id": "d5fbc3e3",
   "metadata": {},
   "outputs": [
    {
     "name": "stdout",
     "output_type": "stream",
     "text": [
      "Quantidade de produtos vendidos no período: 10,720,695.\n"
     ]
    }
   ],
   "source": [
    "produtos_vendidos_quantidade = consulta_sql(banco_dados=acesso_wgift, query=consulta, colunas=[''])\n",
    "print(f'Quantidade de produtos vendidos no período: {produtos_vendidos_quantidade.iloc[0,0]:,.0f}.')"
   ]
  },
  {
   "cell_type": "markdown",
   "id": "0191dc6a",
   "metadata": {},
   "source": [
    "**5. Os 10 paises com mais clientes fora do Reino Unido**"
   ]
  },
  {
   "cell_type": "code",
   "execution_count": 188,
   "id": "3d43d961",
   "metadata": {},
   "outputs": [],
   "source": [
    "# Configurações de gráfico\n",
    "configuracao_grafico = ('Os 10 paises com mais clientes fora do Reino Unido', 'v', 'País', 'Total Vendido')\n",
    "\n",
    "# Consulta SQL\n",
    "consulta = \"\"\"\n",
    "            SELECT \n",
    "                localizacao,\n",
    "                COUNT(cliente) AS total\n",
    "            FROM dimensional.dclientes\n",
    "            GROUP BY localizacao\n",
    "            ORDER BY total DESC;\"\"\""
   ]
  },
  {
   "cell_type": "code",
   "execution_count": 192,
   "id": "c4c64e37",
   "metadata": {},
   "outputs": [
    {
     "data": {
      "image/png": "[encoded data removed]",
      "text/plain": [
       "<Figure size 1200x600 with 1 Axes>"
      ]
     },
     "metadata": {},
     "output_type": "display_data"
    }
   ],
   "source": [
    "top_10_paises = consulta_sql(banco_dados=acesso_wgift, query=consulta, colunas=configuracao_grafico[2:4])\n",
    "top_10_paises = top_10_paises[1:11]\n",
    "grafico_barras(dados=top_10_paises, config_grafico=configuracao_grafico)"
   ]
  },
  {
   "cell_type": "markdown",
   "id": "946adb03",
   "metadata": {},
   "source": [
    "**6. Os 10 maiores clientes.**"
   ]
  },
  {
   "cell_type": "code",
   "execution_count": 232,
   "id": "db3a225d",
   "metadata": {},
   "outputs": [],
   "source": [
    "# Configurações de gráfico\n",
    "configuracao_grafico = ('Os 10 maiores clientes', 'h', 'Total Vendido', 'Clientes')\n",
    "\n",
    "# Consulta SQL\n",
    "consulta = \"\"\"\n",
    "            SELECT\n",
    "                sum(total_vendido) as Total_vendas,\n",
    "                c.cliente as Clientes\n",
    "            FROM dimensional.fvendas v\n",
    "            INNER JOIN dimensional.dclientes c ON v.id_cliente = c.id_cliente\n",
    "            GROUP BY c.cliente\n",
    "            ORDER BY Total_vendas DESC\n",
    "            LIMIT 10;\"\"\""
   ]
  },
  {
   "cell_type": "code",
   "execution_count": 233,
   "id": "ff2d7d43",
   "metadata": {},
   "outputs": [
    {
     "data": {
      "image/png": "[encoded data removed]",
      "text/plain": [
       "<Figure size 1200x600 with 1 Axes>"
      ]
     },
     "metadata": {},
     "output_type": "display_data"
    }
   ],
   "source": [
    "top_5_clientes= consulta_sql(banco_dados=acesso_wgift, query=consulta, colunas=configuracao_grafico[2:4])\n",
    "grafico_barras(dados=top_5_clientes, config_grafico=configuracao_grafico)"
   ]
  },
  {
   "cell_type": "markdown",
   "id": "8ef05d16",
   "metadata": {},
   "source": [
    "**7. Os 10 produtos mais vendidos.**"
   ]
  },
  {
   "cell_type": "code",
   "execution_count": 244,
   "id": "b7a4fbc7",
   "metadata": {},
   "outputs": [],
   "source": [
    "# Configurações de gráfico\n",
    "configuracao_grafico = ('Os 10 produtos mais vendidos', 'h', 'Total', 'Produtos')\n",
    "\n",
    "# Consulta SQL\n",
    "consulta = \"\"\"\n",
    "            SELECT \n",
    "                SUM(quantidade) AS Total,\n",
    "                p.produto AS Produtos\n",
    "            FROM dimensional.fvendas v\n",
    "            INNER JOIN dimensional.dprodutos p ON v.id_produto = p.id_produto\n",
    "            GROUP BY p.produto\n",
    "            ORDER BY Total DESC\n",
    "            LIMIT 10;\"\"\""
   ]
  },
  {
   "cell_type": "code",
   "execution_count": 245,
   "id": "fd3b02a1",
   "metadata": {},
   "outputs": [
    {
     "data": {
      "image/png": "[encoded data removed]",
      "text/plain": [
       "<Figure size 1200x600 with 1 Axes>"
      ]
     },
     "metadata": {},
     "output_type": "display_data"
    }
   ],
   "source": [
    "top_5_produtos = consulta_sql(banco_dados=acesso_wgift, query=consulta, colunas=configuracao_grafico[2:4])\n",
    "grafico_barras(dados=top_5_produtos, config_grafico=configuracao_grafico)"
   ]
  },
  {
   "cell_type": "markdown",
   "id": "ee9cd5be",
   "metadata": {},
   "source": [
    "**8. As 10 notas emitidas com maior faturamento**"
   ]
  },
  {
   "cell_type": "code",
   "execution_count": 240,
   "id": "23b36db0",
   "metadata": {},
   "outputs": [],
   "source": [
    "# Configurações de gráfico\n",
    "configuracao_grafico = ('As 10 Maiores Notas Faturadas', 'h', 'Faturamento', 'Invoice')\n",
    "\n",
    "# Consulta SQL\n",
    "consulta = \"\"\"\n",
    "            SELECT \n",
    "                SUM(total_vendido) AS total_nota,                \n",
    "                invoice\n",
    "            FROM dimensional.fvendas\n",
    "            GROUP BY invoice, data\n",
    "            ORDER BY total_nota DESC\n",
    "            LIMIT 10;\"\"\""
   ]
  },
  {
   "cell_type": "code",
   "execution_count": 241,
   "id": "a0d9d989",
   "metadata": {},
   "outputs": [
    {
     "data": {
      "image/png": "[encoded data removed]",
      "text/plain": [
       "<Figure size 1200x600 with 1 Axes>"
      ]
     },
     "metadata": {},
     "output_type": "display_data"
    }
   ],
   "source": [
    "top_5_produtos = consulta_sql(banco_dados=acesso_wgift, query=consulta, colunas=configuracao_grafico[2:4])\n",
    "grafico_barras(dados=top_5_produtos, config_grafico=configuracao_grafico)"
   ]
  },
  {
   "cell_type": "markdown",
   "id": "53f2214a",
   "metadata": {},
   "source": [
    "**9. Os 10 paises com mais vendas.**"
   ]
  },
  {
   "cell_type": "code",
   "execution_count": 313,
   "id": "28a0a5d7",
   "metadata": {},
   "outputs": [],
   "source": [
    "# Dados de colunas\n",
    "colunas = ['pais', 'vendas']\n",
    "\n",
    "# Zoom do mapa\n",
    "zoom = 2\n",
    "\n",
    "# Consulta SQL\n",
    "consulta = \"\"\"\n",
    "            SELECT \n",
    "                c.localizacao,\n",
    "                count(invoice) AS Quantidade_vendas\n",
    "            FROM dimensional.fvendas v\n",
    "            INNER JOIN dimensional.dclientes c ON v.id_cliente = c.id_cliente\n",
    "            GROUP BY localizacao\n",
    "            ORDER BY Quantidade_vendas DESC\n",
    "            LIMIT 10;\"\"\""
   ]
  },
  {
   "cell_type": "code",
   "execution_count": 314,
   "id": "4c314b46",
   "metadata": {},
   "outputs": [
    {
     "data": {
      "text/html": [
       "<div style=\"width:100%;\"><div style=\"position:relative;width:100%;height:0;padding-bottom:60%;\"><span style=\"color:#565656\">Make this Notebook Trusted to load map: File -> Trust Notebook</span><iframe srcdoc=\"&lt;!DOCTYPE html&gt;\n",
       "&lt;html&gt;\n",
       "&lt;head&gt;\n",
       "    \n",
       "    &lt;meta http-equiv=&quot;content-type&quot; content=&quot;text/html; charset=UTF-8&quot; /&gt;\n",
       "    \n",
       "        &lt;script&gt;\n",
       "            L_NO_TOUCH = false;\n",
       "            L_DISABLE_3D = false;\n",
       "        &lt;/script&gt;\n",
       "    \n",
       "    &lt;style&gt;html, body {width: 100%;height: 100%;margin: 0;padding: 0;}&lt;/style&gt;\n",
       "    &lt;style&gt;#map {position:absolute;top:0;bottom:0;right:0;left:0;}&lt;/style&gt;\n",
       "    &lt;script src=&quot;https://cdn.jsdelivr.net/npm/leaflet@1.9.3/dist/leaflet.js&quot;&gt;&lt;/script&gt;\n",
       "    &lt;script src=&quot;https://code.jquery.com/jquery-1.12.4.min.js&quot;&gt;&lt;/script&gt;\n",
       "    &lt;script src=&quot;https://cdn.jsdelivr.net/npm/bootstrap@5.2.2/dist/js/bootstrap.bundle.min.js&quot;&gt;&lt;/script&gt;\n",
       "    &lt;script src=&quot;https://cdnjs.cloudflare.com/ajax/libs/Leaflet.awesome-markers/2.0.2/leaflet.awesome-markers.js&quot;&gt;&lt;/script&gt;\n",
       "    &lt;link rel=&quot;stylesheet&quot; href=&quot;https://cdn.jsdelivr.net/npm/leaflet@1.9.3/dist/leaflet.css&quot;/&gt;\n",
       "    &lt;link rel=&quot;stylesheet&quot; href=&quot;https://cdn.jsdelivr.net/npm/bootstrap@5.2.2/dist/css/bootstrap.min.css&quot;/&gt;\n",
       "    &lt;link rel=&quot;stylesheet&quot; href=&quot;https://netdna.bootstrapcdn.com/bootstrap/3.0.0/css/bootstrap.min.css&quot;/&gt;\n",
       "    &lt;link rel=&quot;stylesheet&quot; href=&quot;https://cdn.jsdelivr.net/npm/@fortawesome/fontawesome-free@6.2.0/css/all.min.css&quot;/&gt;\n",
       "    &lt;link rel=&quot;stylesheet&quot; href=&quot;https://cdnjs.cloudflare.com/ajax/libs/Leaflet.awesome-markers/2.0.2/leaflet.awesome-markers.css&quot;/&gt;\n",
       "    &lt;link rel=&quot;stylesheet&quot; href=&quot;https://cdn.jsdelivr.net/gh/python-visualization/folium/folium/templates/leaflet.awesome.rotate.min.css&quot;/&gt;\n",
       "    \n",
       "            &lt;meta name=&quot;viewport&quot; content=&quot;width=device-width,\n",
       "                initial-scale=1.0, maximum-scale=1.0, user-scalable=no&quot; /&gt;\n",
       "            &lt;style&gt;\n",
       "                #map_dcf39e08c151bb916516e44e89dc1b7a {\n",
       "                    position: relative;\n",
       "                    width: 100.0%;\n",
       "                    height: 100.0%;\n",
       "                    left: 0.0%;\n",
       "                    top: 0.0%;\n",
       "                }\n",
       "                .leaflet-container { font-size: 1rem; }\n",
       "            &lt;/style&gt;\n",
       "        \n",
       "&lt;/head&gt;\n",
       "&lt;body&gt;\n",
       "    \n",
       "    \n",
       "            &lt;div class=&quot;folium-map&quot; id=&quot;map_dcf39e08c151bb916516e44e89dc1b7a&quot; &gt;&lt;/div&gt;\n",
       "        \n",
       "&lt;/body&gt;\n",
       "&lt;script&gt;\n",
       "    \n",
       "    \n",
       "            var map_dcf39e08c151bb916516e44e89dc1b7a = L.map(\n",
       "                &quot;map_dcf39e08c151bb916516e44e89dc1b7a&quot;,\n",
       "                {\n",
       "                    center: [55.3781, 3.436],\n",
       "                    crs: L.CRS.EPSG3857,\n",
       "                    zoom: 2,\n",
       "                    zoomControl: true,\n",
       "                    preferCanvas: true,\n",
       "                }\n",
       "            );\n",
       "\n",
       "            \n",
       "\n",
       "        \n",
       "    \n",
       "            var tile_layer_0972f3063de201d18c5f9a81a048d610 = L.tileLayer(\n",
       "                &quot;https://cartodb-basemaps-{s}.global.ssl.fastly.net/light_all/{z}/{x}/{y}.png&quot;,\n",
       "                {&quot;attribution&quot;: &quot;\\u0026copy; \\u003ca target=\\&quot;_blank\\&quot; href=\\&quot;http://www.openstreetmap.org/copyright\\&quot;\\u003eOpenStreetMap\\u003c/a\\u003e contributors \\u0026copy; \\u003ca target=\\&quot;_blank\\&quot; href=\\&quot;http://cartodb.com/attributions\\&quot;\\u003eCartoDB\\u003c/a\\u003e, CartoDB \\u003ca target=\\&quot;_blank\\&quot; href =\\&quot;http://cartodb.com/attributions\\&quot;\\u003eattributions\\u003c/a\\u003e&quot;, &quot;detectRetina&quot;: false, &quot;maxNativeZoom&quot;: 18, &quot;maxZoom&quot;: 18, &quot;minZoom&quot;: 0, &quot;noWrap&quot;: false, &quot;opacity&quot;: 1, &quot;subdomains&quot;: &quot;abc&quot;, &quot;tms&quot;: false}\n",
       "            ).addTo(map_dcf39e08c151bb916516e44e89dc1b7a);\n",
       "        \n",
       "    \n",
       "            var marker_db85891dd8eefcbe8f831dc5366d0e07 = L.marker(\n",
       "                [54.7023545, -3.2765753],\n",
       "                {}\n",
       "            ).addTo(map_dcf39e08c151bb916516e44e89dc1b7a);\n",
       "        \n",
       "    \n",
       "            var icon_bf3e9d6644ff5f8c7d665f3200f0f482 = L.AwesomeMarkers.icon(\n",
       "                {&quot;extraClasses&quot;: &quot;fa-rotate-0&quot;, &quot;icon&quot;: &quot;ok-sign&quot;, &quot;iconColor&quot;: &quot;white&quot;, &quot;markerColor&quot;: &quot;red&quot;, &quot;prefix&quot;: &quot;glyphicon&quot;}\n",
       "            );\n",
       "            marker_db85891dd8eefcbe8f831dc5366d0e07.setIcon(icon_bf3e9d6644ff5f8c7d665f3200f0f482);\n",
       "        \n",
       "    \n",
       "        var popup_a080d02aa4916b03446554ba12d6c77f = L.popup({&quot;maxWidth&quot;: &quot;100%&quot;});\n",
       "\n",
       "        \n",
       "            \n",
       "                var html_453889caecebc095f9ddc9d985130ba2 = $(`&lt;div id=&quot;html_453889caecebc095f9ddc9d985130ba2&quot; style=&quot;width: 100.0%; height: 100.0%;&quot;&gt;País:United Kingdom&lt;br&gt;Vendas:705530&lt;/div&gt;`)[0];\n",
       "                popup_a080d02aa4916b03446554ba12d6c77f.setContent(html_453889caecebc095f9ddc9d985130ba2);\n",
       "            \n",
       "        \n",
       "\n",
       "        marker_db85891dd8eefcbe8f831dc5366d0e07.bindPopup(popup_a080d02aa4916b03446554ba12d6c77f)\n",
       "        ;\n",
       "\n",
       "        \n",
       "    \n",
       "    \n",
       "            marker_db85891dd8eefcbe8f831dc5366d0e07.bindTooltip(\n",
       "                `&lt;div&gt;\n",
       "                     United Kingdom\n",
       "                 &lt;/div&gt;`,\n",
       "                {&quot;sticky&quot;: true}\n",
       "            );\n",
       "        \n",
       "    \n",
       "            var marker_9e1987f5e97eac1cacf97332245a3f7b = L.marker(\n",
       "                [51.1638175, 10.4478313],\n",
       "                {}\n",
       "            ).addTo(map_dcf39e08c151bb916516e44e89dc1b7a);\n",
       "        \n",
       "    \n",
       "            var icon_6a309f0074340dbd99b953835ce23e11 = L.AwesomeMarkers.icon(\n",
       "                {&quot;extraClasses&quot;: &quot;fa-rotate-0&quot;, &quot;icon&quot;: &quot;ok-sign&quot;, &quot;iconColor&quot;: &quot;white&quot;, &quot;markerColor&quot;: &quot;red&quot;, &quot;prefix&quot;: &quot;glyphicon&quot;}\n",
       "            );\n",
       "            marker_9e1987f5e97eac1cacf97332245a3f7b.setIcon(icon_6a309f0074340dbd99b953835ce23e11);\n",
       "        \n",
       "    \n",
       "        var popup_be53917c962c7b6d9639a6d98999bea5 = L.popup({&quot;maxWidth&quot;: &quot;100%&quot;});\n",
       "\n",
       "        \n",
       "            \n",
       "                var html_0592914f50abee3a8d52016b4f939b84 = $(`&lt;div id=&quot;html_0592914f50abee3a8d52016b4f939b84&quot; style=&quot;width: 100.0%; height: 100.0%;&quot;&gt;País:Alemanha&lt;br&gt;Vendas:17372&lt;/div&gt;`)[0];\n",
       "                popup_be53917c962c7b6d9639a6d98999bea5.setContent(html_0592914f50abee3a8d52016b4f939b84);\n",
       "            \n",
       "        \n",
       "\n",
       "        marker_9e1987f5e97eac1cacf97332245a3f7b.bindPopup(popup_be53917c962c7b6d9639a6d98999bea5)\n",
       "        ;\n",
       "\n",
       "        \n",
       "    \n",
       "    \n",
       "            marker_9e1987f5e97eac1cacf97332245a3f7b.bindTooltip(\n",
       "                `&lt;div&gt;\n",
       "                     Alemanha\n",
       "                 &lt;/div&gt;`,\n",
       "                {&quot;sticky&quot;: true}\n",
       "            );\n",
       "        \n",
       "    \n",
       "            var marker_2193b4c8f6012df2a95e885ce4a158e9 = L.marker(\n",
       "                [52.865196, -7.9794599],\n",
       "                {}\n",
       "            ).addTo(map_dcf39e08c151bb916516e44e89dc1b7a);\n",
       "        \n",
       "    \n",
       "            var icon_cb60fbc793333b1891055ab540ca1447 = L.AwesomeMarkers.icon(\n",
       "                {&quot;extraClasses&quot;: &quot;fa-rotate-0&quot;, &quot;icon&quot;: &quot;ok-sign&quot;, &quot;iconColor&quot;: &quot;white&quot;, &quot;markerColor&quot;: &quot;red&quot;, &quot;prefix&quot;: &quot;glyphicon&quot;}\n",
       "            );\n",
       "            marker_2193b4c8f6012df2a95e885ce4a158e9.setIcon(icon_cb60fbc793333b1891055ab540ca1447);\n",
       "        \n",
       "    \n",
       "        var popup_76865f1603f9721d17118ce99c324225 = L.popup({&quot;maxWidth&quot;: &quot;100%&quot;});\n",
       "\n",
       "        \n",
       "            \n",
       "                var html_dadb1e5e5d3cf80320264eb40b277849 = $(`&lt;div id=&quot;html_dadb1e5e5d3cf80320264eb40b277849&quot; style=&quot;width: 100.0%; height: 100.0%;&quot;&gt;País:EIRE&lt;br&gt;Vendas:16031&lt;/div&gt;`)[0];\n",
       "                popup_76865f1603f9721d17118ce99c324225.setContent(html_dadb1e5e5d3cf80320264eb40b277849);\n",
       "            \n",
       "        \n",
       "\n",
       "        marker_2193b4c8f6012df2a95e885ce4a158e9.bindPopup(popup_76865f1603f9721d17118ce99c324225)\n",
       "        ;\n",
       "\n",
       "        \n",
       "    \n",
       "    \n",
       "            marker_2193b4c8f6012df2a95e885ce4a158e9.bindTooltip(\n",
       "                `&lt;div&gt;\n",
       "                     EIRE\n",
       "                 &lt;/div&gt;`,\n",
       "                {&quot;sticky&quot;: true}\n",
       "            );\n",
       "        \n",
       "    \n",
       "            var marker_ee28a2340f148ff180429add1715c4a7 = L.marker(\n",
       "                [46.603354, 1.8883335],\n",
       "                {}\n",
       "            ).addTo(map_dcf39e08c151bb916516e44e89dc1b7a);\n",
       "        \n",
       "    \n",
       "            var icon_da1438b3917a668289164345b85ee9ac = L.AwesomeMarkers.icon(\n",
       "                {&quot;extraClasses&quot;: &quot;fa-rotate-0&quot;, &quot;icon&quot;: &quot;ok-sign&quot;, &quot;iconColor&quot;: &quot;white&quot;, &quot;markerColor&quot;: &quot;red&quot;, &quot;prefix&quot;: &quot;glyphicon&quot;}\n",
       "            );\n",
       "            marker_ee28a2340f148ff180429add1715c4a7.setIcon(icon_da1438b3917a668289164345b85ee9ac);\n",
       "        \n",
       "    \n",
       "        var popup_2ef2a1514ac6a159db669c5f5fca4164 = L.popup({&quot;maxWidth&quot;: &quot;100%&quot;});\n",
       "\n",
       "        \n",
       "            \n",
       "                var html_443075febe91bf91b23f1329bf28e5a0 = $(`&lt;div id=&quot;html_443075febe91bf91b23f1329bf28e5a0&quot; style=&quot;width: 100.0%; height: 100.0%;&quot;&gt;País:France&lt;br&gt;Vendas:13766&lt;/div&gt;`)[0];\n",
       "                popup_2ef2a1514ac6a159db669c5f5fca4164.setContent(html_443075febe91bf91b23f1329bf28e5a0);\n",
       "            \n",
       "        \n",
       "\n",
       "        marker_ee28a2340f148ff180429add1715c4a7.bindPopup(popup_2ef2a1514ac6a159db669c5f5fca4164)\n",
       "        ;\n",
       "\n",
       "        \n",
       "    \n",
       "    \n",
       "            marker_ee28a2340f148ff180429add1715c4a7.bindTooltip(\n",
       "                `&lt;div&gt;\n",
       "                     France\n",
       "                 &lt;/div&gt;`,\n",
       "                {&quot;sticky&quot;: true}\n",
       "            );\n",
       "        \n",
       "    \n",
       "            var marker_ad45159bd7291b6260aaa1ec018131ec = L.marker(\n",
       "                [52.2434979, 5.6343227],\n",
       "                {}\n",
       "            ).addTo(map_dcf39e08c151bb916516e44e89dc1b7a);\n",
       "        \n",
       "    \n",
       "            var icon_6618240d93ebb9fcfd4232f4175bde44 = L.AwesomeMarkers.icon(\n",
       "                {&quot;extraClasses&quot;: &quot;fa-rotate-0&quot;, &quot;icon&quot;: &quot;ok-sign&quot;, &quot;iconColor&quot;: &quot;white&quot;, &quot;markerColor&quot;: &quot;red&quot;, &quot;prefix&quot;: &quot;glyphicon&quot;}\n",
       "            );\n",
       "            marker_ad45159bd7291b6260aaa1ec018131ec.setIcon(icon_6618240d93ebb9fcfd4232f4175bde44);\n",
       "        \n",
       "    \n",
       "        var popup_101ba616a2482e6c18de5f204e1fe3d1 = L.popup({&quot;maxWidth&quot;: &quot;100%&quot;});\n",
       "\n",
       "        \n",
       "            \n",
       "                var html_7a255fee610bcdc835efee873a7ca45f = $(`&lt;div id=&quot;html_7a255fee610bcdc835efee873a7ca45f&quot; style=&quot;width: 100.0%; height: 100.0%;&quot;&gt;País:Netherlands&lt;br&gt;Vendas:5130&lt;/div&gt;`)[0];\n",
       "                popup_101ba616a2482e6c18de5f204e1fe3d1.setContent(html_7a255fee610bcdc835efee873a7ca45f);\n",
       "            \n",
       "        \n",
       "\n",
       "        marker_ad45159bd7291b6260aaa1ec018131ec.bindPopup(popup_101ba616a2482e6c18de5f204e1fe3d1)\n",
       "        ;\n",
       "\n",
       "        \n",
       "    \n",
       "    \n",
       "            marker_ad45159bd7291b6260aaa1ec018131ec.bindTooltip(\n",
       "                `&lt;div&gt;\n",
       "                     Netherlands\n",
       "                 &lt;/div&gt;`,\n",
       "                {&quot;sticky&quot;: true}\n",
       "            );\n",
       "        \n",
       "    \n",
       "            var marker_1843768e5e9074651ca852049192763a = L.marker(\n",
       "                [39.3260685, -4.8379791],\n",
       "                {}\n",
       "            ).addTo(map_dcf39e08c151bb916516e44e89dc1b7a);\n",
       "        \n",
       "    \n",
       "            var icon_6e795ce0adec4cf4c4dc55df483607ab = L.AwesomeMarkers.icon(\n",
       "                {&quot;extraClasses&quot;: &quot;fa-rotate-0&quot;, &quot;icon&quot;: &quot;ok-sign&quot;, &quot;iconColor&quot;: &quot;white&quot;, &quot;markerColor&quot;: &quot;red&quot;, &quot;prefix&quot;: &quot;glyphicon&quot;}\n",
       "            );\n",
       "            marker_1843768e5e9074651ca852049192763a.setIcon(icon_6e795ce0adec4cf4c4dc55df483607ab);\n",
       "        \n",
       "    \n",
       "        var popup_7a52a5c38a03a73b194107f2fa51dbd3 = L.popup({&quot;maxWidth&quot;: &quot;100%&quot;});\n",
       "\n",
       "        \n",
       "            \n",
       "                var html_73ab84f3f656d805a44162e8ca434735 = $(`&lt;div id=&quot;html_73ab84f3f656d805a44162e8ca434735&quot; style=&quot;width: 100.0%; height: 100.0%;&quot;&gt;País:Spain&lt;br&gt;Vendas:3686&lt;/div&gt;`)[0];\n",
       "                popup_7a52a5c38a03a73b194107f2fa51dbd3.setContent(html_73ab84f3f656d805a44162e8ca434735);\n",
       "            \n",
       "        \n",
       "\n",
       "        marker_1843768e5e9074651ca852049192763a.bindPopup(popup_7a52a5c38a03a73b194107f2fa51dbd3)\n",
       "        ;\n",
       "\n",
       "        \n",
       "    \n",
       "    \n",
       "            marker_1843768e5e9074651ca852049192763a.bindTooltip(\n",
       "                `&lt;div&gt;\n",
       "                     Spain\n",
       "                 &lt;/div&gt;`,\n",
       "                {&quot;sticky&quot;: true}\n",
       "            );\n",
       "        \n",
       "    \n",
       "            var marker_48e320bb1063f222ec31b29d19a732b3 = L.marker(\n",
       "                [50.6402809, 4.6667145],\n",
       "                {}\n",
       "            ).addTo(map_dcf39e08c151bb916516e44e89dc1b7a);\n",
       "        \n",
       "    \n",
       "            var icon_d99ed50f5d9d5a73d93535a7fec1d9fb = L.AwesomeMarkers.icon(\n",
       "                {&quot;extraClasses&quot;: &quot;fa-rotate-0&quot;, &quot;icon&quot;: &quot;ok-sign&quot;, &quot;iconColor&quot;: &quot;white&quot;, &quot;markerColor&quot;: &quot;red&quot;, &quot;prefix&quot;: &quot;glyphicon&quot;}\n",
       "            );\n",
       "            marker_48e320bb1063f222ec31b29d19a732b3.setIcon(icon_d99ed50f5d9d5a73d93535a7fec1d9fb);\n",
       "        \n",
       "    \n",
       "        var popup_b133591bd20fc67e678fc7d09abd9c52 = L.popup({&quot;maxWidth&quot;: &quot;100%&quot;});\n",
       "\n",
       "        \n",
       "            \n",
       "                var html_9c13cdaa37069fbc635dbd582522c11a = $(`&lt;div id=&quot;html_9c13cdaa37069fbc635dbd582522c11a&quot; style=&quot;width: 100.0%; height: 100.0%;&quot;&gt;País:Belgium&lt;br&gt;Vendas:3061&lt;/div&gt;`)[0];\n",
       "                popup_b133591bd20fc67e678fc7d09abd9c52.setContent(html_9c13cdaa37069fbc635dbd582522c11a);\n",
       "            \n",
       "        \n",
       "\n",
       "        marker_48e320bb1063f222ec31b29d19a732b3.bindPopup(popup_b133591bd20fc67e678fc7d09abd9c52)\n",
       "        ;\n",
       "\n",
       "        \n",
       "    \n",
       "    \n",
       "            marker_48e320bb1063f222ec31b29d19a732b3.bindTooltip(\n",
       "                `&lt;div&gt;\n",
       "                     Belgium\n",
       "                 &lt;/div&gt;`,\n",
       "                {&quot;sticky&quot;: true}\n",
       "            );\n",
       "        \n",
       "    \n",
       "            var marker_c8481e6ffe3e70b3928b2fc9f74b622e = L.marker(\n",
       "                [46.7985624, 8.2319736],\n",
       "                {}\n",
       "            ).addTo(map_dcf39e08c151bb916516e44e89dc1b7a);\n",
       "        \n",
       "    \n",
       "            var icon_988ebc8bd1bbde1366a6659516ac5ccb = L.AwesomeMarkers.icon(\n",
       "                {&quot;extraClasses&quot;: &quot;fa-rotate-0&quot;, &quot;icon&quot;: &quot;ok-sign&quot;, &quot;iconColor&quot;: &quot;white&quot;, &quot;markerColor&quot;: &quot;red&quot;, &quot;prefix&quot;: &quot;glyphicon&quot;}\n",
       "            );\n",
       "            marker_c8481e6ffe3e70b3928b2fc9f74b622e.setIcon(icon_988ebc8bd1bbde1366a6659516ac5ccb);\n",
       "        \n",
       "    \n",
       "        var popup_59e4e1f2624db34ae91d0a0bda081124 = L.popup({&quot;maxWidth&quot;: &quot;100%&quot;});\n",
       "\n",
       "        \n",
       "            \n",
       "                var html_93f1bda55e48d1eb15f649e737c7328a = $(`&lt;div id=&quot;html_93f1bda55e48d1eb15f649e737c7328a&quot; style=&quot;width: 100.0%; height: 100.0%;&quot;&gt;País:Switzerland&lt;br&gt;Vendas:2945&lt;/div&gt;`)[0];\n",
       "                popup_59e4e1f2624db34ae91d0a0bda081124.setContent(html_93f1bda55e48d1eb15f649e737c7328a);\n",
       "            \n",
       "        \n",
       "\n",
       "        marker_c8481e6ffe3e70b3928b2fc9f74b622e.bindPopup(popup_59e4e1f2624db34ae91d0a0bda081124)\n",
       "        ;\n",
       "\n",
       "        \n",
       "    \n",
       "    \n",
       "            marker_c8481e6ffe3e70b3928b2fc9f74b622e.bindTooltip(\n",
       "                `&lt;div&gt;\n",
       "                     Switzerland\n",
       "                 &lt;/div&gt;`,\n",
       "                {&quot;sticky&quot;: true}\n",
       "            );\n",
       "        \n",
       "    \n",
       "            var marker_f1f426e4775a659708129dc684d9affc = L.marker(\n",
       "                [39.6621648, -8.1353519],\n",
       "                {}\n",
       "            ).addTo(map_dcf39e08c151bb916516e44e89dc1b7a);\n",
       "        \n",
       "    \n",
       "            var icon_957fe164ace691d0fccda5b5d9ce6e42 = L.AwesomeMarkers.icon(\n",
       "                {&quot;extraClasses&quot;: &quot;fa-rotate-0&quot;, &quot;icon&quot;: &quot;ok-sign&quot;, &quot;iconColor&quot;: &quot;white&quot;, &quot;markerColor&quot;: &quot;red&quot;, &quot;prefix&quot;: &quot;glyphicon&quot;}\n",
       "            );\n",
       "            marker_f1f426e4775a659708129dc684d9affc.setIcon(icon_957fe164ace691d0fccda5b5d9ce6e42);\n",
       "        \n",
       "    \n",
       "        var popup_ab383e79cb7882e87c7def4130e7f86e = L.popup({&quot;maxWidth&quot;: &quot;100%&quot;});\n",
       "\n",
       "        \n",
       "            \n",
       "                var html_803c545382e13a757598af410b416d29 = $(`&lt;div id=&quot;html_803c545382e13a757598af410b416d29&quot; style=&quot;width: 100.0%; height: 100.0%;&quot;&gt;País:Portugal&lt;br&gt;Vendas:2398&lt;/div&gt;`)[0];\n",
       "                popup_ab383e79cb7882e87c7def4130e7f86e.setContent(html_803c545382e13a757598af410b416d29);\n",
       "            \n",
       "        \n",
       "\n",
       "        marker_f1f426e4775a659708129dc684d9affc.bindPopup(popup_ab383e79cb7882e87c7def4130e7f86e)\n",
       "        ;\n",
       "\n",
       "        \n",
       "    \n",
       "    \n",
       "            marker_f1f426e4775a659708129dc684d9affc.bindTooltip(\n",
       "                `&lt;div&gt;\n",
       "                     Portugal\n",
       "                 &lt;/div&gt;`,\n",
       "                {&quot;sticky&quot;: true}\n",
       "            );\n",
       "        \n",
       "    \n",
       "            var marker_b7c53afaa742ecd4dde120bd255e0b8d = L.marker(\n",
       "                [-24.7761086, 134.755],\n",
       "                {}\n",
       "            ).addTo(map_dcf39e08c151bb916516e44e89dc1b7a);\n",
       "        \n",
       "    \n",
       "            var icon_7ad05c36acee9138035eae7c8f2eb8d7 = L.AwesomeMarkers.icon(\n",
       "                {&quot;extraClasses&quot;: &quot;fa-rotate-0&quot;, &quot;icon&quot;: &quot;ok-sign&quot;, &quot;iconColor&quot;: &quot;white&quot;, &quot;markerColor&quot;: &quot;red&quot;, &quot;prefix&quot;: &quot;glyphicon&quot;}\n",
       "            );\n",
       "            marker_b7c53afaa742ecd4dde120bd255e0b8d.setIcon(icon_7ad05c36acee9138035eae7c8f2eb8d7);\n",
       "        \n",
       "    \n",
       "        var popup_9f9ec24963bc9015943c02ad484ea801 = L.popup({&quot;maxWidth&quot;: &quot;100%&quot;});\n",
       "\n",
       "        \n",
       "            \n",
       "                var html_3a39556feab40db3f9a493d94f492092 = $(`&lt;div id=&quot;html_3a39556feab40db3f9a493d94f492092&quot; style=&quot;width: 100.0%; height: 100.0%;&quot;&gt;País:Australia&lt;br&gt;Vendas:1749&lt;/div&gt;`)[0];\n",
       "                popup_9f9ec24963bc9015943c02ad484ea801.setContent(html_3a39556feab40db3f9a493d94f492092);\n",
       "            \n",
       "        \n",
       "\n",
       "        marker_b7c53afaa742ecd4dde120bd255e0b8d.bindPopup(popup_9f9ec24963bc9015943c02ad484ea801)\n",
       "        ;\n",
       "\n",
       "        \n",
       "    \n",
       "    \n",
       "            marker_b7c53afaa742ecd4dde120bd255e0b8d.bindTooltip(\n",
       "                `&lt;div&gt;\n",
       "                     Australia\n",
       "                 &lt;/div&gt;`,\n",
       "                {&quot;sticky&quot;: true}\n",
       "            );\n",
       "        \n",
       "&lt;/script&gt;\n",
       "&lt;/html&gt;\" style=\"position:absolute;width:100%;height:100%;left:0;top:0;border:none !important;\" allowfullscreen webkitallowfullscreen mozallowfullscreen></iframe></div></div>"
      ],
      "text/plain": [
       "<folium.folium.Map at 0x2324b77afd0>"
      ]
     },
     "metadata": {},
     "output_type": "display_data"
    }
   ],
   "source": [
    "vendas_paises = consulta_sql(banco_dados=acesso_wgift, query=consulta, colunas=colunas)\n",
    "vendas_paises.loc[vendas_paises['pais'].str.contains('Germany'), ['pais']] = 'Alemanha'\n",
    "grafico_mapa(dados=vendas_paises, zoom=zoom)"
   ]
  },
  {
   "cell_type": "markdown",
   "id": "fc73a0a8",
   "metadata": {},
   "source": [
    "# Fim"
   ]
  }
 ],
 "metadata": {
  "kernelspec": {
   "display_name": "Python 3 (ipykernel)",
   "language": "python",
   "name": "python3"
  },
  "language_info": {
   "codemirror_mode": {
    "name": "ipython",
    "version": 3
   },
   "file_extension": ".py",
   "mimetype": "text/x-python",
   "name": "python",
   "nbconvert_exporter": "python",
   "pygments_lexer": "ipython3",
   "version": "3.11.5"
  }
 },
 "nbformat": 4,
 "nbformat_minor": 5
}
